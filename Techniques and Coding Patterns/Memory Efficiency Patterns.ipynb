{
 "cells": [
  {
   "cell_type": "markdown",
   "metadata": {},
   "source": [
    "#### Memory Efficiency Software Patterns"
   ]
  },
  {
   "cell_type": "markdown",
   "metadata": {},
   "source": [
    "#### Generators \n",
    "\n",
    "Why Generators Are Memory Efficient\n",
    "A normal list stores all elements at once, which can be inefficient for large datasets. A generator, on the other hand, remembers only its current state and produces values one by one when needed.\n",
    "\n",
    "Citation: https://docs.python.org/3/tutorial/classes.html#generators"
   ]
  },
  {
   "cell_type": "code",
   "execution_count": 1,
   "metadata": {},
   "outputs": [
    {
     "name": "stdout",
     "output_type": "stream",
     "text": [
      "8448728\n",
      "192\n"
     ]
    }
   ],
   "source": [
    "import sys\n",
    "\n",
    "# List comprehension (stores all values in memory)\n",
    "nums_list = [x for x in range(1_000_000)]\n",
    "print(sys.getsizeof(nums_list))  # Uses a lot of memory\n",
    "\n",
    "# Generator expression (does not store all values)\n",
    "nums_gen = (x for x in range(1_000_000))\n",
    "print(sys.getsizeof(nums_gen))  # Uses very little memory\n"
   ]
  },
  {
   "cell_type": "markdown",
   "metadata": {},
   "source": [
    "#### If you want a fresh generator"
   ]
  },
  {
   "cell_type": "code",
   "execution_count": 2,
   "metadata": {},
   "outputs": [
    {
     "name": "stdout",
     "output_type": "stream",
     "text": [
      "0\n",
      "1\n",
      "0\n"
     ]
    }
   ],
   "source": [
    "def custom_range(n):\n",
    "    i = 0\n",
    "    while i < n:\n",
    "        yield i  # Pause and return i\n",
    "        i += 1   # i is updated, and this state is remembered\n",
    "\n",
    "gen1 = custom_range(3)\n",
    "gen2 = custom_range(3)\n",
    "\n",
    "print(next(gen1))  # 0\n",
    "print(next(gen1))  # 1\n",
    "\n",
    "print(next(gen2))  # 0 (separate instance!)\n"
   ]
  }
 ],
 "metadata": {
  "kernelspec": {
   "display_name": "Python 3",
   "language": "python",
   "name": "python3"
  },
  "language_info": {
   "codemirror_mode": {
    "name": "ipython",
    "version": 3
   },
   "file_extension": ".py",
   "mimetype": "text/x-python",
   "name": "python",
   "nbconvert_exporter": "python",
   "pygments_lexer": "ipython3",
   "version": "3.12.2"
  }
 },
 "nbformat": 4,
 "nbformat_minor": 2
}
