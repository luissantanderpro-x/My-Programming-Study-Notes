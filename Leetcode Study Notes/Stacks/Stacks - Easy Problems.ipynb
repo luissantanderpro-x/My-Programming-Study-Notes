{
 "cells": [
  {
   "cell_type": "markdown",
   "metadata": {},
   "source": [
    "# Stacks - Easy Problem Sets"
   ]
  },
  {
   "cell_type": "markdown",
   "metadata": {},
   "source": [
    "#### 20. Valid Parentheses\n",
    "Solved\n",
    "Easy\n",
    "Topics\n",
    "Companies\n",
    "Hint\n",
    "Given a string s containing just the characters '(', ')', '{', '}', '[' and ']', determine if the input string is valid.\n",
    "\n",
    "An input string is valid if:\n",
    "\n",
    "Open brackets must be closed by the same type of brackets.\n",
    "Open brackets must be closed in the correct order.\n",
    "Every close bracket has a corresponding open bracket of the same type.\n",
    " \n",
    "\n",
    "Example 1:\n",
    "\n",
    "Input: s = \"()\"\n",
    "\n",
    "Output: true\n",
    "\n",
    "Example 2:\n",
    "\n",
    "Input: s = \"()[]{}\"\n",
    "\n",
    "Output: true\n",
    "\n",
    "Example 3:\n",
    "\n",
    "Input: s = \"(]\"\n",
    "\n",
    "Output: false\n",
    "\n",
    "Example 4:\n",
    "\n",
    "Input: s = \"([])\"\n",
    "\n",
    "Output: true\n",
    "\n",
    "Constraints:\n",
    "\n",
    "1 <= s.length <= 104\n",
    "s consists of parentheses only '()[]{}'.\n",
    "\n",
    "URL: https://leetcode.com/problems/valid-parentheses/submissions/1547943385/?envType=problem-list-v2&envId=stack"
   ]
  },
  {
   "cell_type": "code",
   "execution_count": 22,
   "metadata": {},
   "outputs": [
    {
     "data": {
      "text/plain": [
       "True"
      ]
     },
     "execution_count": 22,
     "metadata": {},
     "output_type": "execute_result"
    }
   ],
   "source": [
    "def isValid(s: str) -> bool: \n",
    "    parenthesis = []\n",
    "    i = 0 \n",
    "    while (i < len(s)):\n",
    "        c = s[i] \n",
    "        if (c == \"(\" or c == \"[\" or c == \"{\"): \n",
    "            parenthesis.append(c) \n",
    "        else:\n",
    "            if (len(parenthesis) == 0):\n",
    "                return False \n",
    "            k = parenthesis.pop() \n",
    "            if (k == \"(\" and c != \")\"):\n",
    "                return False \n",
    "            if (k == \"[\" and c != \"]\"):\n",
    "                return False \n",
    "            if (k == \"{\" and c != \"}\"): \n",
    "                return False \n",
    "        i += 1 \n",
    "\n",
    "    return False if len(parenthesis) != 0 else True  \n",
    "\n",
    "s = \"[]\"\n",
    "isValid(s) "
   ]
  },
  {
   "cell_type": "markdown",
   "metadata": {},
   "source": []
  }
 ],
 "metadata": {
  "kernelspec": {
   "display_name": "Python 3",
   "language": "python",
   "name": "python3"
  },
  "language_info": {
   "codemirror_mode": {
    "name": "ipython",
    "version": 3
   },
   "file_extension": ".py",
   "mimetype": "text/x-python",
   "name": "python",
   "nbconvert_exporter": "python",
   "pygments_lexer": "ipython3",
   "version": "3.12.2"
  }
 },
 "nbformat": 4,
 "nbformat_minor": 2
}
