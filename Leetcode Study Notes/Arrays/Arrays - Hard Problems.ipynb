{
 "cells": [
  {
   "cell_type": "markdown",
   "metadata": {},
   "source": [
    "## Arrays - Hard Problem Sets"
   ]
  },
  {
   "cell_type": "markdown",
   "metadata": {},
   "source": [
    "### 1402. Reducing Dishes\n",
    "Hard\n",
    "Topics\n",
    "Companies\n",
    "Hint\n",
    "A chef has collected data on the satisfaction level of his n dishes. Chef can cook any dish in 1 unit of time.\n",
    "\n",
    "Like-time coefficient of a dish is defined as the time taken to cook that dish including previous dishes multiplied by its satisfaction level i.e. time[i] * satisfaction[i].\n",
    "\n",
    "Return the maximum sum of like-time coefficient that the chef can obtain after preparing some amount of dishes.\n",
    "\n",
    "Dishes can be prepared in any order and the chef can discard some dishes to get this maximum value.\n",
    "\n",
    " \n",
    "\n",
    "Example 1:\n",
    "\n",
    "Input: satisfaction = [-1,-8,0,5,-9]\n",
    "Output: 14\n",
    "Explanation: After Removing the second and last dish, the maximum total like-time coefficient will be equal to (-1*1 + 0*2 + 5*3 = 14).\n",
    "Each dish is prepared in one unit of time.\n",
    "Example 2:\n",
    "\n",
    "Input: satisfaction = [4,3,2]\n",
    "Output: 20\n",
    "Explanation: Dishes can be prepared in any order, (2*1 + 3*2 + 4*3 = 20)\n",
    "Example 3:\n",
    "\n",
    "Input: satisfaction = [-1,-4,-5]\n",
    "Output: 0\n",
    "Explanation: People do not like the dishes. No dish is prepared."
   ]
  },
  {
   "cell_type": "code",
   "execution_count": 10,
   "metadata": {},
   "outputs": [
    {
     "name": "stdout",
     "output_type": "stream",
     "text": [
      "14\n",
      "20\n",
      "0\n"
     ]
    }
   ],
   "source": [
    "from typing import List \n",
    "\n",
    "def max_satisfaction(satisfaction: List[int]) -> int: \n",
    "    satisfaction.sort()\n",
    "    max_satisfaction, i = 0, 1\n",
    "    while (i <= len(satisfaction)):\n",
    "        total = 0 \n",
    "        s = satisfaction[-i:]\n",
    "        for j, num in enumerate(s):\n",
    "            total += (j + 1) * num \n",
    "            if (total > max_satisfaction):\n",
    "                max_satisfaction = total \n",
    "        i = i + 1\n",
    "    return max_satisfaction \n",
    "\n",
    "print(max_satisfaction([-1, -8, 0, 5, -9]))\n",
    "print(max_satisfaction([4,3,2]))\n",
    "print(max_satisfaction([-1,-4,-5]))"
   ]
  }
 ],
 "metadata": {
  "kernelspec": {
   "display_name": "Python 3",
   "language": "python",
   "name": "python3"
  },
  "language_info": {
   "codemirror_mode": {
    "name": "ipython",
    "version": 3
   },
   "file_extension": ".py",
   "mimetype": "text/x-python",
   "name": "python",
   "nbconvert_exporter": "python",
   "pygments_lexer": "ipython3",
   "version": "3.12.2"
  }
 },
 "nbformat": 4,
 "nbformat_minor": 2
}
