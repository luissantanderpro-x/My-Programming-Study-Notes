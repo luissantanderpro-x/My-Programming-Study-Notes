{
 "cells": [
  {
   "cell_type": "markdown",
   "id": "93df1c17-c628-40e9-836d-6d06b5bcddf7",
   "metadata": {},
   "source": [
    "## Arrays - Easy Problem Sets"
   ]
  },
  {
   "cell_type": "markdown",
   "id": "5d9e3f53",
   "metadata": {},
   "source": []
  },
  {
   "cell_type": "markdown",
   "id": "169e984d",
   "metadata": {},
   "source": [
    "#### 219 - Contains Duplicate II\n",
    "\n",
    "Given an integer array nums and an integer k, return true if there are two distinct indices i and j in the array such that nums[i] == nums[j] and abs(i - j) <= k.\n",
    "\n",
    "##### Example 1:\n",
    "\n",
    "- Input: nums = [1,2,3,1], k = 3 \n",
    "- Output: true"
   ]
  },
  {
   "cell_type": "code",
   "execution_count": 21,
   "id": "6dab54de",
   "metadata": {},
   "outputs": [
    {
     "name": "stdout",
     "output_type": "stream",
     "text": [
      "True\n",
      "True\n",
      "False\n"
     ]
    }
   ],
   "source": [
    "from typing import List\n",
    "\n",
    "def containsNearbyDuplicate(nums: List[int], k: int) -> bool: \n",
    "    p1 = 0 \n",
    "    index_map = {}\n",
    "    while (p1 < len(nums)):\n",
    "        if (nums[p1] in index_map):\n",
    "            if (abs(index_map[nums[p1]] - p1) <= k):\n",
    "                return True \n",
    "        index_map[nums[p1]] = p1 \n",
    "        p1 += 1 \n",
    "    return False \n",
    "\n",
    "nums = [99, 99]\n",
    "k = 2\n",
    "print(containsNearbyDuplicate(nums,k))\n",
    "\n",
    "nums = [1,0,1,1]\n",
    "k = 1 \n",
    "res = containsNearbyDuplicate(nums, k)\n",
    "print(res)\n",
    "\n",
    "nums = [1,2,3,1,2,3]\n",
    "k = 2 \n",
    "res = containsNearbyDuplicate(nums, k)\n",
    "print(res)"
   ]
  },
  {
   "cell_type": "markdown",
   "id": "8a8a85fa",
   "metadata": {},
   "source": [
    "#### 228 - Summary Ranges \n",
    "\n",
    "You are given a sorted unique integer array nums.\n",
    "\n",
    "A range [a,b] is the set of all integers from a to b (inclusive).\n",
    "\n",
    "Return the smallest sorted list of ranges that cover all the numbers in the array exactly. That is, each element of nums is covered by exactly one of the ranges, and there is no integer x such that x is in one of the ranges but not in nums.\n",
    "\n",
    "Each range [a,b] in the list should be output as:\n",
    "\n",
    "\"a->b\" if a != b\n",
    "\"a\" if a == b\n",
    "\n",
    "#### Example 1: \n",
    "\n",
    "- Input: nums = [0,1,2,4,5,7]\n",
    "- Output: [\"0->2\",\"4->5\",\"7\"]\n",
    "- Explanation: The ranges are:\n",
    "- [0,2] --> \"0->2\"\n",
    "- [4,5] --> \"4->5\"\n",
    "- [7,7] --> \"7\"\n",
    "\n",
    "\n",
    "URL: https://leetcode.com/problems/summary-ranges/description/?envType=problem-list-v2&envId=array"
   ]
  },
  {
   "cell_type": "code",
   "execution_count": 16,
   "id": "cacb6131",
   "metadata": {},
   "outputs": [
    {
     "name": "stdout",
     "output_type": "stream",
     "text": [
      "['0->2', '4->5', '7']\n"
     ]
    }
   ],
   "source": [
    "from typing import List  \n",
    "\n",
    "def summaryRanges(nums: List[int]) -> List[str]: \n",
    "    p1 = p2 = 0 \n",
    "    ranges = [] \n",
    "    while (p1 < len(nums)):   \n",
    "        while (p2 < len(nums) and nums[p2] == nums[p1] + (p2 - p1)):\n",
    "            p2 += 1 \n",
    "        if (p2 - p1 == 1):\n",
    "            ranges.append(f\"{nums[p1]}\")\n",
    "        else: \n",
    "            ranges.append(f\"{nums[p1]}->{nums[p2 - 1]}\")\n",
    "        p1 = p2 \n",
    "    return ranges\n",
    "\n",
    "nums = [0, 1, 2, 4, 5, 7]\n",
    "# nums = [0, 2, 3, 4, 6, 8, 9]\n",
    "print(summaryRanges(nums)) "
   ]
  },
  {
   "cell_type": "markdown",
   "id": "a02c5b89",
   "metadata": {},
   "source": [
    "#### 268"
   ]
  },
  {
   "cell_type": "code",
   "execution_count": null,
   "id": "70a37a8e",
   "metadata": {},
   "outputs": [
    {
     "data": {
      "text/plain": [
       "8"
      ]
     },
     "execution_count": 42,
     "metadata": {},
     "output_type": "execute_result"
    }
   ],
   "source": [
    "def missingNumber(nums: List[int]) -> int:\n",
    "        found = set([len(nums)]) \n",
    "        i = 0 \n",
    "        while (i < len(nums)):\n",
    "            if (i in found):\n",
    "                  found.remove(i) \n",
    "            else:\n",
    "                  found.add(i) \n",
    "            \n",
    "            if (nums[i] in found):\n",
    "                  found.remove(nums[i])\n",
    "            else: \n",
    "                  found.add(nums[i]) \n",
    "            i += 1 \n",
    "        return found.pop()\n",
    "\n",
    "nums = [0,1]\n",
    "nums = [0, 1, 3, 2, 4, 7, 6, 5, 9]\n",
    "missingNumber(nums) "
   ]
  },
  {
   "cell_type": "code",
   "execution_count": null,
   "id": "6f367269",
   "metadata": {},
   "outputs": [],
   "source": []
  }
 ],
 "metadata": {
  "kernelspec": {
   "display_name": "Python 3",
   "language": "python",
   "name": "python3"
  },
  "language_info": {
   "codemirror_mode": {
    "name": "ipython",
    "version": 3
   },
   "file_extension": ".py",
   "mimetype": "text/x-python",
   "name": "python",
   "nbconvert_exporter": "python",
   "pygments_lexer": "ipython3",
   "version": "3.12.2"
  }
 },
 "nbformat": 4,
 "nbformat_minor": 5
}
