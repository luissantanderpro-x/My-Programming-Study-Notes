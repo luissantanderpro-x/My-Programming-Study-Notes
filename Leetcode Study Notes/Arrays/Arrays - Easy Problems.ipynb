{
 "cells": [
  {
   "cell_type": "markdown",
   "id": "93df1c17-c628-40e9-836d-6d06b5bcddf7",
   "metadata": {},
   "source": [
    "## Arrays - Easy Problem Sets\n",
    "\n",
    "#### Table of Contents\n",
    "- 219. Contains Duplicate II\n",
    "- 228. Summary of Ranges"
   ]
  },
  {
   "cell_type": "markdown",
   "id": "169e984d",
   "metadata": {},
   "source": [
    "#### 219 - Contains Duplicate II\n",
    "\n",
    "Given an integer array nums and an integer k, return true if there are two distinct indices i and j in the array such that nums[i] == nums[j] and abs(i - j) <= k.\n",
    "\n",
    "##### Example 1:\n",
    "\n",
    "- Input: nums = [1,2,3,1], k = 3 \n",
    "- Output: true"
   ]
  },
  {
   "cell_type": "code",
   "execution_count": 21,
   "id": "6dab54de",
   "metadata": {},
   "outputs": [
    {
     "name": "stdout",
     "output_type": "stream",
     "text": [
      "True\n",
      "True\n",
      "False\n"
     ]
    }
   ],
   "source": [
    "from typing import List\n",
    "\n",
    "def containsNearbyDuplicate(nums: List[int], k: int) -> bool: \n",
    "    p1 = 0 \n",
    "    index_map = {}\n",
    "    while (p1 < len(nums)):\n",
    "        if (nums[p1] in index_map):\n",
    "            if (abs(index_map[nums[p1]] - p1) <= k):\n",
    "                return True \n",
    "        index_map[nums[p1]] = p1 \n",
    "        p1 += 1 \n",
    "    return False \n",
    "\n",
    "nums = [99, 99]\n",
    "k = 2\n",
    "print(containsNearbyDuplicate(nums,k))\n",
    "\n",
    "nums = [1,0,1,1]\n",
    "k = 1 \n",
    "res = containsNearbyDuplicate(nums, k)\n",
    "print(res)\n",
    "\n",
    "nums = [1,2,3,1,2,3]\n",
    "k = 2 \n",
    "res = containsNearbyDuplicate(nums, k)\n",
    "print(res)"
   ]
  },
  {
   "cell_type": "markdown",
   "id": "8a8a85fa",
   "metadata": {},
   "source": [
    "#### 228 - Summary Ranges \n",
    "\n",
    "You are given a sorted unique integer array nums.\n",
    "\n",
    "A range [a,b] is the set of all integers from a to b (inclusive).\n",
    "\n",
    "Return the smallest sorted list of ranges that cover all the numbers in the array exactly. That is, each element of nums is covered by exactly one of the ranges, and there is no integer x such that x is in one of the ranges but not in nums.\n",
    "\n",
    "Each range [a,b] in the list should be output as:\n",
    "\n",
    "\"a->b\" if a != b\n",
    "\"a\" if a == b\n",
    "\n",
    "#### Example 1: \n",
    "\n",
    "- Input: nums = [0,1,2,4,5,7]\n",
    "- Output: [\"0->2\",\"4->5\",\"7\"]\n",
    "- Explanation: The ranges are:\n",
    "- [0,2] --> \"0->2\"\n",
    "- [4,5] --> \"4->5\"\n",
    "- [7,7] --> \"7\"\n",
    "\n",
    "\n",
    "URL: https://leetcode.com/problems/summary-ranges/description/?envType=problem-list-v2&envId=array"
   ]
  },
  {
   "cell_type": "code",
   "execution_count": 16,
   "id": "cacb6131",
   "metadata": {},
   "outputs": [
    {
     "name": "stdout",
     "output_type": "stream",
     "text": [
      "['0->2', '4->5', '7']\n"
     ]
    }
   ],
   "source": [
    "from typing import List  \n",
    "\n",
    "def summaryRanges(nums: List[int]) -> List[str]: \n",
    "    p1 = p2 = 0 \n",
    "    ranges = [] \n",
    "    while (p1 < len(nums)):   \n",
    "        while (p2 < len(nums) and nums[p2] == nums[p1] + (p2 - p1)):\n",
    "            p2 += 1 \n",
    "        if (p2 - p1 == 1):\n",
    "            ranges.append(f\"{nums[p1]}\")\n",
    "        else: \n",
    "            ranges.append(f\"{nums[p1]}->{nums[p2 - 1]}\")\n",
    "        p1 = p2 \n",
    "    return ranges\n",
    "\n",
    "nums = [0, 1, 2, 4, 5, 7]\n",
    "# nums = [0, 2, 3, 4, 6, 8, 9]\n",
    "print(summaryRanges(nums)) "
   ]
  },
  {
   "cell_type": "markdown",
   "id": "a02c5b89",
   "metadata": {},
   "source": [
    "#### 268. Missing Number \n",
    "\n",
    "Given an array nums containing n distinct numbers in the range [0, n], return the only number in the range that is missing from the array.\n",
    "\n",
    " Example 1:\n",
    "\n",
    "Input: nums = [3,0,1]\n",
    "\n",
    "Output: 2\n",
    "\n",
    "Explanation:\n",
    "\n",
    "n = 3 since there are 3 numbers, so all numbers are in the range [0,3]. 2 is the missing number in the range since it does not appear in nums.\n",
    "\n",
    "Example 2:\n",
    "\n",
    "Input: nums = [0,1]\n",
    "\n",
    "Output: 2\n",
    "\n",
    "Explanation:\n",
    "\n",
    "n = 2 since there are 2 numbers, so all numbers are in the range [0,2]. 2 is the missing number in the range since it does not appear in nums.\n",
    "\n",
    "Example 3:\n",
    "\n",
    "Input: nums = [9,6,4,2,3,5,7,0,1]\n",
    "\n",
    "Output: 8\n",
    "\n",
    "Explanation:\n",
    "\n",
    "n = 9 since there are 9 numbers, so all numbers are in the range [0,9]. 8 is the missing number in the range since it does not appear in nums.\n",
    "\n",
    " \n",
    "\n",
    "\n",
    "URL: https://leetcode.com/problems/missing-number/?envType=problem-list-v2&envId=array"
   ]
  },
  {
   "cell_type": "code",
   "execution_count": null,
   "id": "70a37a8e",
   "metadata": {},
   "outputs": [
    {
     "data": {
      "text/plain": [
       "8"
      ]
     },
     "execution_count": 42,
     "metadata": {},
     "output_type": "execute_result"
    }
   ],
   "source": [
    "def missingNumber(nums: List[int]) -> int:\n",
    "        found = set([len(nums)]) \n",
    "        i = 0 \n",
    "        while (i < len(nums)):\n",
    "            if (i in found):\n",
    "                  found.remove(i) \n",
    "            else:\n",
    "                  found.add(i) \n",
    "            \n",
    "            if (nums[i] in found):\n",
    "                  found.remove(nums[i])\n",
    "            else: \n",
    "                  found.add(nums[i]) \n",
    "            i += 1 \n",
    "        return found.pop()\n",
    "\n",
    "nums = [0,1]\n",
    "nums = [0, 1, 3, 2, 4, 7, 6, 5, 9]\n",
    "missingNumber(nums) "
   ]
  },
  {
   "cell_type": "markdown",
   "id": "cf1ef156",
   "metadata": {},
   "source": [
    "#### 283. Move Zeroes \n",
    "\n",
    "Given an integer array nums, move all 0's to the end of it while maintaining the relative order of the non-zero elements.\n",
    "\n",
    "Note that you must do this in-place without making a copy of the array.\n",
    "\n",
    "Example 1:\n",
    "\n",
    "Input: nums = [0,1,0,3,12]\n",
    "Output: [1,3,12,0,0]\n",
    "Example 2:\n",
    "\n",
    "Input: nums = [0]\n",
    "Output: [0]\n",
    " \n",
    "\n",
    "- Constraints:\n",
    "- 1 <= nums.length <= 104\n",
    "- -231 <= nums[i] <= 231 - 1\n",
    "\n",
    "URL: https://leetcode.com/problems/move-zeroes/?envType=problem-list-v2&envId=array"
   ]
  },
  {
   "cell_type": "code",
   "execution_count": 15,
   "id": "b4938d8f",
   "metadata": {},
   "outputs": [
    {
     "name": "stdout",
     "output_type": "stream",
     "text": [
      "[1, 3, 12, 0, 0]\n"
     ]
    }
   ],
   "source": [
    "from typing import List \n",
    "\n",
    "def moveZeroes(nums: List[int]) -> None: \n",
    "    p1 = 0 \n",
    "    p2 = p1 + 1 \n",
    "    while (p2 < len(nums) and p1 != p2):  \n",
    "        if (nums[p1] != 0): \n",
    "            p1 += 1 \n",
    "        else:\n",
    "            while (p2 < len(nums) and nums[p2] == 0):\n",
    "                p2 += 1 \n",
    "            if (p2 < len(nums)): \n",
    "                nums[p1], nums[p2] = nums[p2], nums[p1]\n",
    "            p1 += 1 \n",
    "        p2 += 1 \n",
    "\n",
    "nums = [4, 4, 0, 4]\n",
    "nums = [0, 0, 0, 4]\n",
    "nums = [0, 1, 0, 3, 12]\n",
    "# nums = [0]\n",
    "moveZeroes(nums) \n",
    "\n",
    "print(nums)"
   ]
  },
  {
   "cell_type": "markdown",
   "id": "849b359c",
   "metadata": {},
   "source": [
    "#### 303. Range Sum Query - Immutable \n",
    "\n",
    "303. Range Sum Query - Immutable\n",
    "Solved\n",
    "Easy\n",
    "Topics\n",
    "Companies\n",
    "Given an integer array nums, handle multiple queries of the following type:\n",
    "\n",
    "Calculate the sum of the elements of nums between indices left and right inclusive where left <= right.\n",
    "Implement the NumArray class:\n",
    "\n",
    "NumArray(int[] nums) Initializes the object with the integer array nums.\n",
    "int sumRange(int left, int right) Returns the sum of the elements of nums between indices left and right inclusive (i.e. nums[left] + nums[left + 1] + ... + nums[right]).\n",
    " \n",
    "\n",
    "Example 1:\n",
    "\n",
    "Input\n",
    "[\"NumArray\", \"sumRange\", \"sumRange\", \"sumRange\"]\n",
    "[[[-2, 0, 3, -5, 2, -1]], [0, 2], [2, 5], [0, 5]]\n",
    "Output\n",
    "[null, 1, -1, -3]\n",
    "\n",
    "Explanation\n",
    "NumArray numArray = new NumArray([-2, 0, 3, -5, 2, -1]);\n",
    "numArray.sumRange(0, 2); // return (-2) + 0 + 3 = 1\n",
    "numArray.sumRange(2, 5); // return 3 + (-5) + 2 + (-1) = -1\n",
    "numArray.sumRange(0, 5); // return (-2) + 0 + 3 + (-5) + 2 + (-1) = -3\n",
    "\n",
    "URL: https://leetcode.com/problems/range-sum-query-immutable/description/?envType=problem-list-v2&envId=array"
   ]
  },
  {
   "cell_type": "code",
   "execution_count": 78,
   "id": "cab558cf",
   "metadata": {},
   "outputs": [
    {
     "name": "stdout",
     "output_type": "stream",
     "text": [
      "1\n"
     ]
    }
   ],
   "source": [
    "from typing import List \n",
    "\n",
    "# Brute Force Solution \n",
    "class NumArrayBruteForce:\n",
    "    def __init__(self, nums: List[int]) -> None: \n",
    "        self.nums = nums \n",
    "    def sumRange(self, left: int, right: int) -> int: \n",
    "        return sum(self.nums[left:right+1])\n",
    "\n",
    "# Optimized \n",
    "class NumArray:\n",
    "    def __init__(self, nums: List[int]) -> None: \n",
    "        self.prefix = [0] * len(nums)\n",
    "        self.prefix[0] = nums[0]\n",
    "        p1 = 1\n",
    "        while(p1 < len(nums)): \n",
    "            self.prefix[p1] = self.prefix[p1 - 1] + nums[p1]\n",
    "            p1 += 1 \n",
    "\n",
    "    def sumRange(self, left: int, right: int) -> int: \n",
    "        return self.prefix[right] if left == 0 else self.prefix[right] - self.prefix[left - 1]\n",
    "    \n",
    "obj = NumArray([-2,0,3,-5,2,-1])\n",
    "print(obj.sumRange(0,2))"
   ]
  },
  {
   "cell_type": "code",
   "execution_count": 40,
   "id": "f6374483",
   "metadata": {},
   "outputs": [
    {
     "name": "stdout",
     "output_type": "stream",
     "text": [
      "2\n"
     ]
    }
   ],
   "source": [
    "from typing import List \n",
    "\n",
    "def findContentChildren(g: List[int], s: List[int]) -> int:\n",
    "        p1 = len(g) - 1\n",
    "        p2 = len(s) - 1\n",
    "        g = sorted(g) \n",
    "        s = sorted(s) \n",
    "        satisfied = 0\n",
    "        while (p2 >= 0 and p1 >= 0):\n",
    "            if (s[p2] >= g[p1]):\n",
    "                satisfied += 1\n",
    "                p2 -= 1\n",
    "                p1 -= 1\n",
    "            else:\n",
    "                p1 -= 1\n",
    "        return satisfied\n",
    "\n",
    "g = [10,9,8,7]\n",
    "s = [5,6,7,8]\n",
    "print(findContentChildren(g, s))"
   ]
  },
  {
   "cell_type": "markdown",
   "id": "0a32fdf0",
   "metadata": {},
   "source": [
    "### 1929. Concatenation of Array\n",
    "Given an integer array nums of length n, you want to create an array ans of length 2n where ans[i] == nums[i] and ans[i + n] == nums[i] for 0 <= i < n (0-indexed).\n",
    "\n",
    "Specifically, ans is the concatenation of two nums arrays.\n",
    "\n",
    "Return the array ans.\n",
    "\n",
    "Example 1:\n",
    "\n",
    "Input: nums = [1,2,1]\n",
    "Output: [1,2,1,1,2,1]\n",
    "Explanation: The array ans is formed as follows:\n",
    "- ans = [nums[0],nums[1],nums[2],nums[0],nums[1],nums[2]]\n",
    "- ans = [1,2,1,1,2,1]\n",
    "Example 2:\n",
    "\n",
    "Input: nums = [1,3,2,1]\n",
    "Output: [1,3,2,1,1,3,2,1]\n",
    "Explanation: The array ans is formed as follows:\n",
    "- ans = [nums[0],nums[1],nums[2],nums[3],nums[0],nums[1],nums[2],nums[3]]\n",
    "- ans = [1,3,2,1,1,3,2,1]\n",
    " \n",
    "Constraints:\n",
    "\n",
    "n == nums.length\n",
    "1 <= n <= 1000\n",
    "1 <= nums[i] <= 1000\n",
    "\n",
    "URL: https://leetcode.com/problems/concatenation-of-array/description/"
   ]
  },
  {
   "cell_type": "code",
   "execution_count": 1,
   "id": "8e76e979",
   "metadata": {},
   "outputs": [
    {
     "name": "stdout",
     "output_type": "stream",
     "text": [
      "[1, 2, 1, 1, 2, 1]\n",
      "[1, 3, 2, 1, 1, 3, 2, 1]\n"
     ]
    }
   ],
   "source": [
    "from typing import List \n",
    "def getConcatenation(nums: List[int]) -> List[int]:\n",
    "    return nums + nums\n",
    "\n",
    "res1 = getConcatenation([1,2,1]) \n",
    "print(res1)\n",
    "\n",
    "res2 = getConcatenation([1,3,2,1])\n",
    "print(res2)"
   ]
  },
  {
   "cell_type": "markdown",
   "id": "e17e4c74",
   "metadata": {},
   "source": [
    "### 1920. Build Array from Permutation\n",
    "\n",
    "Given a zero-based permutation nums (0-indexed), build an array ans of the same length where ans[i] = nums[nums[i]] for each 0 <= i < nums.length and return it.\n",
    "\n",
    "A zero-based permutation nums is an array of distinct integers from 0 to nums.length - 1 (inclusive).\n",
    "\n",
    " \n",
    "\n",
    "Example 1:\n",
    "\n",
    "Input: nums = [0,2,1,5,3,4]\n",
    "Output: [0,1,2,4,5,3]\n",
    "Explanation: The array ans is built as follows: \n",
    "ans = [nums[nums[0]], nums[nums[1]], nums[nums[2]], nums[nums[3]], nums[nums[4]], nums[nums[5]]]\n",
    "    = [nums[0], nums[2], nums[1], nums[5], nums[3], nums[4]]\n",
    "    = [0,1,2,4,5,3]\n",
    "Example 2:\n",
    "\n",
    "Input: nums = [5,0,1,2,3,4]\n",
    "Output: [4,5,0,1,2,3]\n",
    "Explanation: The array ans is built as follows:\n",
    "ans = [nums[nums[0]], nums[nums[1]], nums[nums[2]], nums[nums[3]], nums[nums[4]], nums[nums[5]]]\n",
    "    = [nums[5], nums[0], nums[1], nums[2], nums[3], nums[4]]\n",
    "    = [4,5,0,1,2,3]\n",
    " \n",
    "\n",
    "Constraints:\n",
    "\n",
    "1 <= nums.length <= 1000\n",
    "0 <= nums[i] < nums.length\n",
    "The elements in nums are distinct.\n",
    " \n",
    "URL: https://leetcode.com/problems/build-array-from-permutation/description/"
   ]
  },
  {
   "cell_type": "markdown",
   "id": "9a272291",
   "metadata": {},
   "source": [
    "#### "
   ]
  },
  {
   "cell_type": "code",
   "execution_count": null,
   "id": "a6316a04",
   "metadata": {},
   "outputs": [],
   "source": [
    "from typing import List \n",
    "\n",
    "def buildArray(nums: List[int]) -> List[int]:\n",
    "    return [nums[x] for x in nums]\n",
    "\n",
    "res1 = buildArray([0,2,1,5,3,4])\n",
    "res2 = buildArray([5,0,1,2,3,4])\n",
    "\n",
    "print(res1, res2)"
   ]
  },
  {
   "cell_type": "markdown",
   "id": "0c87739b",
   "metadata": {},
   "source": [
    "### 1512. Number of Good Pairs\n",
    "Easy\n",
    "Topics\n",
    "Companies\n",
    "Hint\n",
    "Given an array of integers nums, return the number of good pairs.\n",
    "\n",
    "A pair (i, j) is called good if nums[i] == nums[j] and i < j.\n",
    "\n",
    "Example 1:\n",
    "\n",
    "Input: nums = [1,2,3,1,1,3]\n",
    "Output: 4\n",
    "Explanation: There are 4 good pairs (0,3), (0,4), (3,4), (2,5) 0-indexed.\n",
    "Example 2:\n",
    "\n",
    "Input: nums = [1,1,1,1]\n",
    "Output: 6\n",
    "Explanation: Each pair in the array are good.\n",
    "Example 3:\n",
    "\n",
    "Input: nums = [1,2,3]\n",
    "Output: 0\n",
    " \n",
    "Constraints:\n",
    "\n",
    "1 <= nums.length <= 100\n",
    "1 <= nums[i] <= 100\n",
    "\n",
    "URL: https://leetcode.com/problems/number-of-good-pairs/description/"
   ]
  },
  {
   "cell_type": "code",
   "execution_count": 2,
   "id": "22a7fdff",
   "metadata": {},
   "outputs": [
    {
     "name": "stdout",
     "output_type": "stream",
     "text": [
      "4 6 0\n"
     ]
    }
   ],
   "source": [
    "from typing import List \n",
    "\n",
    "def numIdenticalPairs(nums: List[int]) -> int:\n",
    "    counted_pairs = 0 \n",
    "    for i in range(len(nums)):\n",
    "        for j in range(i + 1, len(nums)):\n",
    "            if (nums[i] == nums[j]):\n",
    "                counted_pairs = counted_pairs + 1\n",
    "    return counted_pairs\n",
    "\n",
    "# This can be optimized using a dictionary. \n",
    "# Write the code if you want to proceed\n",
    "\n",
    "res1 = numIdenticalPairs([1,2,3,1,1,3])\n",
    "res2 = numIdenticalPairs([1,1,1,1])\n",
    "res3 = numIdenticalPairs([1,2,3])\n",
    "print(res1, res2, res3)"
   ]
  },
  {
   "cell_type": "markdown",
   "id": "91f0b0e4",
   "metadata": {},
   "source": [
    "#### 69. Sqrt(x)\n",
    "Easy\n",
    "Topics\n",
    "Companies\n",
    "Hint\n",
    "Given a non-negative integer x, return the square root of x rounded down to the nearest integer. The returned integer should be non-negative as well.\n",
    "\n",
    "You must not use any built-in exponent function or operator.\n",
    "\n",
    "For example, do not use pow(x, 0.5) in c++ or x ** 0.5 in python.\n",
    " \n",
    "Example 1:\n",
    "\n",
    "Input: x = 4\n",
    "Output: 2\n",
    "Explanation: The square root of 4 is 2, so we return 2.\n",
    "Example 2:\n",
    "\n",
    "Input: x = 8\n",
    "Output: 2\n",
    "Explanation: The square root of 8 is 2.82842..., and since we round it down to the nearest integer, 2 is returned.\n",
    " \n",
    "\n",
    "Constraints:\n",
    "\n",
    "0 <= x <= 231 - 1\n",
    "\n",
    "URL: https://leetcode.com/problems/sqrtx/description/"
   ]
  },
  {
   "cell_type": "code",
   "execution_count": 10,
   "id": "83805ae3",
   "metadata": {},
   "outputs": [
    {
     "data": {
      "text/plain": [
       "5"
      ]
     },
     "execution_count": 10,
     "metadata": {},
     "output_type": "execute_result"
    }
   ],
   "source": [
    "# Brute Force Solution \n",
    "def mySqrtBruteForce(x: int) -> int: \n",
    "    count = 0 \n",
    "    odd = 1 \n",
    "    while x >= odd: \n",
    "        x -= odd\n",
    "        odd += 2 \n",
    "        count += 1 \n",
    "    return count \n",
    "\n",
    "# Optimized Solution using Binary Search \n",
    "def mySqrt(x: int) -> int: \n",
    "    if x == 0 or x == 1: \n",
    "        return x \n",
    "    \n",
    "    low = 0\n",
    "    high = x \n",
    "    res = 0 \n",
    "\n",
    "    while low <= high: \n",
    "        mid = (low + high) // 2 \n",
    "        square = mid * mid \n",
    "\n",
    "        if (square == x):\n",
    "            return mid \n",
    "        elif (square < x): \n",
    "            res = mid \n",
    "            low = mid + 1 \n",
    "        else:\n",
    "            high = mid - 1 \n",
    "    \n",
    "    return res \n",
    "\n",
    "mySqrt(25) "
   ]
  }
 ],
 "metadata": {
  "kernelspec": {
   "display_name": "Python 3",
   "language": "python",
   "name": "python3"
  },
  "language_info": {
   "codemirror_mode": {
    "name": "ipython",
    "version": 3
   },
   "file_extension": ".py",
   "mimetype": "text/x-python",
   "name": "python",
   "nbconvert_exporter": "python",
   "pygments_lexer": "ipython3",
   "version": "3.12.2"
  }
 },
 "nbformat": 4,
 "nbformat_minor": 5
}
