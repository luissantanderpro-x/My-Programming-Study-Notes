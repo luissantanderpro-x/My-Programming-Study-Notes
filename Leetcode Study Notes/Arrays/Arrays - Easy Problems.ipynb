{
 "cells": [
  {
   "cell_type": "markdown",
   "id": "93df1c17-c628-40e9-836d-6d06b5bcddf7",
   "metadata": {},
   "source": [
    "## Arrays - Easy Problem Sets"
   ]
  },
  {
   "cell_type": "markdown",
   "id": "5d9e3f53",
   "metadata": {},
   "source": []
  },
  {
   "cell_type": "markdown",
   "id": "169e984d",
   "metadata": {},
   "source": [
    "#### 219 - Contains Duplicate II\n",
    "\n",
    "Given an integer array nums and an integer k, return true if there are two distinct indices i and j in the array such that nums[i] == nums[j] and abs(i - j) <= k.\n",
    "\n",
    "##### Example 1:\n",
    "\n",
    "- Input: nums = [1,2,3,1], k = 3 \n",
    "- Output: true"
   ]
  },
  {
   "cell_type": "code",
   "execution_count": 21,
   "id": "6dab54de",
   "metadata": {},
   "outputs": [
    {
     "name": "stdout",
     "output_type": "stream",
     "text": [
      "True\n",
      "True\n",
      "False\n"
     ]
    }
   ],
   "source": [
    "from typing import List\n",
    "\n",
    "def containsNearbyDuplicate(nums: List[int], k: int) -> bool: \n",
    "    p1 = 0 \n",
    "    index_map = {}\n",
    "    while (p1 < len(nums)):\n",
    "        if (nums[p1] in index_map):\n",
    "            if (abs(index_map[nums[p1]] - p1) <= k):\n",
    "                return True \n",
    "        index_map[nums[p1]] = p1 \n",
    "        p1 += 1 \n",
    "    return False \n",
    "\n",
    "nums = [99, 99]\n",
    "k = 2\n",
    "print(containsNearbyDuplicate(nums,k))\n",
    "\n",
    "nums = [1,0,1,1]\n",
    "k = 1 \n",
    "res = containsNearbyDuplicate(nums, k)\n",
    "print(res)\n",
    "\n",
    "nums = [1,2,3,1,2,3]\n",
    "k = 2 \n",
    "res = containsNearbyDuplicate(nums, k)\n",
    "print(res)"
   ]
  },
  {
   "cell_type": "code",
   "execution_count": null,
   "id": "069490e2",
   "metadata": {},
   "outputs": [],
   "source": []
  }
 ],
 "metadata": {
  "kernelspec": {
   "display_name": "Python 3",
   "language": "python",
   "name": "python3"
  },
  "language_info": {
   "codemirror_mode": {
    "name": "ipython",
    "version": 3
   },
   "file_extension": ".py",
   "mimetype": "text/x-python",
   "name": "python",
   "nbconvert_exporter": "python",
   "pygments_lexer": "ipython3",
   "version": "3.12.2"
  }
 },
 "nbformat": 4,
 "nbformat_minor": 5
}
