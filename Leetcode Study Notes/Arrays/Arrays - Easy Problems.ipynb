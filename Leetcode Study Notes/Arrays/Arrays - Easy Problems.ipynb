{
 "cells": [
  {
   "cell_type": "markdown",
   "id": "93df1c17-c628-40e9-836d-6d06b5bcddf7",
   "metadata": {},
   "source": [
    "## Arrays - Easy Problem Sets\n",
    "\n",
    "#### Table of Contents\n",
    "- 219. Contains Duplicate II\n",
    "- 228. Summary of Ranges\n",
    "- 268. Missing Number\n",
    "- 283. Move Zeros"
   ]
  },
  {
   "cell_type": "markdown",
   "id": "169e984d",
   "metadata": {},
   "source": [
    "#### 219 - Contains Duplicate II\n",
    "\n",
    "Given an integer array nums and an integer k, return true if there are two distinct indices i and j in the array such that nums[i] == nums[j] and abs(i - j) <= k.\n",
    "\n",
    "##### Example 1:\n",
    "\n",
    "- Input: nums = [1,2,3,1], k = 3 \n",
    "- Output: true"
   ]
  },
  {
   "cell_type": "code",
   "execution_count": 8,
   "id": "6dab54de",
   "metadata": {},
   "outputs": [
    {
     "name": "stdout",
     "output_type": "stream",
     "text": [
      "True\n",
      "True\n",
      "False\n"
     ]
    }
   ],
   "source": [
    "from typing import List\n",
    "\n",
    "def containsNearbyDuplicate(nums: List[int], k: int) -> bool: \n",
    "    p1 = 0 \n",
    "    index_map = {}\n",
    "    while (p1 < len(nums)):\n",
    "        if (nums[p1] in index_map):\n",
    "            if (abs(index_map[nums[p1]] - p1) <= k):\n",
    "                return True \n",
    "        index_map[nums[p1]] = p1 \n",
    "        p1 += 1 \n",
    "    return False \n",
    "\n",
    "nums = [99, 99]\n",
    "k = 2\n",
    "print(containsNearbyDuplicate(nums,k))\n",
    "\n",
    "nums = [1,0,1,1]\n",
    "k = 1 \n",
    "res = containsNearbyDuplicate(nums, k)\n",
    "print(res)\n",
    "\n",
    "nums = [1,2,3,1,2,3]\n",
    "k = 2 \n",
    "res = containsNearbyDuplicate(nums, k)\n",
    "print(res)"
   ]
  },
  {
   "cell_type": "markdown",
   "id": "8a8a85fa",
   "metadata": {},
   "source": [
    "#### 228 - Summary Ranges \n",
    "\n",
    "You are given a sorted unique integer array nums.\n",
    "\n",
    "A range [a,b] is the set of all integers from a to b (inclusive).\n",
    "\n",
    "Return the smallest sorted list of ranges that cover all the numbers in the array exactly. That is, each element of nums is covered by exactly one of the ranges, and there is no integer x such that x is in one of the ranges but not in nums.\n",
    "\n",
    "Each range [a,b] in the list should be output as:\n",
    "\n",
    "\"a->b\" if a != b\n",
    "\"a\" if a == b\n",
    "\n",
    "#### Example 1: \n",
    "\n",
    "- Input: nums = [0,1,2,4,5,7]\n",
    "- Output: [\"0->2\",\"4->5\",\"7\"]\n",
    "- Explanation: The ranges are:\n",
    "- [0,2] --> \"0->2\"\n",
    "- [4,5] --> \"4->5\"\n",
    "- [7,7] --> \"7\"\n",
    "\n",
    "\n",
    "URL: https://leetcode.com/problems/summary-ranges/description/?envType=problem-list-v2&envId=array"
   ]
  },
  {
   "cell_type": "code",
   "execution_count": 9,
   "id": "cacb6131",
   "metadata": {},
   "outputs": [
    {
     "name": "stdout",
     "output_type": "stream",
     "text": [
      "['0->2', '4->5', '7']\n"
     ]
    }
   ],
   "source": [
    "from typing import List  \n",
    "\n",
    "def summaryRanges(nums: List[int]) -> List[str]: \n",
    "    p1 = p2 = 0 \n",
    "    ranges = [] \n",
    "    while (p1 < len(nums)):   \n",
    "        while (p2 < len(nums) and nums[p2] == nums[p1] + (p2 - p1)):\n",
    "            p2 += 1 \n",
    "        if (p2 - p1 == 1):\n",
    "            ranges.append(f\"{nums[p1]}\")\n",
    "        else: \n",
    "            ranges.append(f\"{nums[p1]}->{nums[p2 - 1]}\")\n",
    "        p1 = p2 \n",
    "    return ranges\n",
    "\n",
    "nums = [0, 1, 2, 4, 5, 7]\n",
    "# nums = [0, 2, 3, 4, 6, 8, 9]\n",
    "print(summaryRanges(nums)) "
   ]
  },
  {
   "cell_type": "markdown",
   "id": "a02c5b89",
   "metadata": {},
   "source": [
    "#### 268. Missing Number \n",
    "\n",
    "Given an array nums containing n distinct numbers in the range [0, n], return the only number in the range that is missing from the array.\n",
    "\n",
    " Example 1:\n",
    "\n",
    "Input: nums = [3,0,1]\n",
    "\n",
    "Output: 2\n",
    "\n",
    "Explanation:\n",
    "\n",
    "n = 3 since there are 3 numbers, so all numbers are in the range [0,3]. 2 is the missing number in the range since it does not appear in nums.\n",
    "\n",
    "Example 2:\n",
    "\n",
    "Input: nums = [0,1]\n",
    "\n",
    "Output: 2\n",
    "\n",
    "Explanation:\n",
    "\n",
    "n = 2 since there are 2 numbers, so all numbers are in the range [0,2]. 2 is the missing number in the range since it does not appear in nums.\n",
    "\n",
    "Example 3:\n",
    "\n",
    "Input: nums = [9,6,4,2,3,5,7,0,1]\n",
    "\n",
    "Output: 8\n",
    "\n",
    "Explanation:\n",
    "\n",
    "n = 9 since there are 9 numbers, so all numbers are in the range [0,9]. 8 is the missing number in the range since it does not appear in nums.\n",
    "\n",
    " \n",
    "\n",
    "\n",
    "URL: https://leetcode.com/problems/missing-number/?envType=problem-list-v2&envId=array"
   ]
  },
  {
   "cell_type": "code",
   "execution_count": 10,
   "id": "70a37a8e",
   "metadata": {},
   "outputs": [
    {
     "data": {
      "text/plain": [
       "8"
      ]
     },
     "execution_count": 10,
     "metadata": {},
     "output_type": "execute_result"
    }
   ],
   "source": [
    "def missingNumber(nums: List[int]) -> int:\n",
    "        found = set([len(nums)]) \n",
    "        i = 0 \n",
    "        while (i < len(nums)):\n",
    "            if (i in found):\n",
    "                  found.remove(i) \n",
    "            else:\n",
    "                  found.add(i) \n",
    "            \n",
    "            if (nums[i] in found):\n",
    "                  found.remove(nums[i])\n",
    "            else: \n",
    "                  found.add(nums[i]) \n",
    "            i += 1 \n",
    "        return found.pop()\n",
    "\n",
    "nums = [0,1]\n",
    "nums = [0, 1, 3, 2, 4, 7, 6, 5, 9]\n",
    "missingNumber(nums) "
   ]
  },
  {
   "cell_type": "markdown",
   "id": "cf1ef156",
   "metadata": {},
   "source": [
    "#### 283. Move Zeroes \n",
    "\n",
    "Given an integer array nums, move all 0's to the end of it while maintaining the relative order of the non-zero elements.\n",
    "\n",
    "Note that you must do this in-place without making a copy of the array.\n",
    "\n",
    "Example 1:\n",
    "\n",
    "Input: nums = [0,1,0,3,12]\n",
    "Output: [1,3,12,0,0]\n",
    "Example 2:\n",
    "\n",
    "Input: nums = [0]\n",
    "Output: [0]\n",
    " \n",
    "\n",
    "- Constraints:\n",
    "- 1 <= nums.length <= 104\n",
    "- -231 <= nums[i] <= 231 - 1\n",
    "\n",
    "URL: https://leetcode.com/problems/move-zeroes/?envType=problem-list-v2&envId=array"
   ]
  },
  {
   "cell_type": "code",
   "execution_count": 11,
   "id": "b4938d8f",
   "metadata": {},
   "outputs": [
    {
     "name": "stdout",
     "output_type": "stream",
     "text": [
      "[1, 3, 12, 0, 0]\n"
     ]
    }
   ],
   "source": [
    "from typing import List \n",
    "\n",
    "def moveZeroes(nums: List[int]) -> None: \n",
    "    p1 = 0 \n",
    "    p2 = p1 + 1 \n",
    "    while (p2 < len(nums) and p1 != p2):  \n",
    "        if (nums[p1] != 0): \n",
    "            p1 += 1 \n",
    "        else:\n",
    "            while (p2 < len(nums) and nums[p2] == 0):\n",
    "                p2 += 1 \n",
    "            if (p2 < len(nums)): \n",
    "                nums[p1], nums[p2] = nums[p2], nums[p1]\n",
    "            p1 += 1 \n",
    "        p2 += 1 \n",
    "\n",
    "nums = [4, 4, 0, 4]\n",
    "nums = [0, 0, 0, 4]\n",
    "nums = [0, 1, 0, 3, 12]\n",
    "# nums = [0]\n",
    "moveZeroes(nums) \n",
    "\n",
    "print(nums)"
   ]
  },
  {
   "cell_type": "markdown",
   "id": "849b359c",
   "metadata": {},
   "source": [
    "#### 303. Range Sum Query - Immutable \n",
    "\n",
    "303. Range Sum Query - Immutable\n",
    "Solved\n",
    "Easy\n",
    "Topics\n",
    "Companies\n",
    "Given an integer array nums, handle multiple queries of the following type:\n",
    "\n",
    "Calculate the sum of the elements of nums between indices left and right inclusive where left <= right.\n",
    "Implement the NumArray class:\n",
    "\n",
    "NumArray(int[] nums) Initializes the object with the integer array nums.\n",
    "int sumRange(int left, int right) Returns the sum of the elements of nums between indices left and right inclusive (i.e. nums[left] + nums[left + 1] + ... + nums[right]).\n",
    " \n",
    "\n",
    "Example 1:\n",
    "\n",
    "Input\n",
    "[\"NumArray\", \"sumRange\", \"sumRange\", \"sumRange\"]\n",
    "[[[-2, 0, 3, -5, 2, -1]], [0, 2], [2, 5], [0, 5]]\n",
    "Output\n",
    "[null, 1, -1, -3]\n",
    "\n",
    "Explanation\n",
    "NumArray numArray = new NumArray([-2, 0, 3, -5, 2, -1]);\n",
    "numArray.sumRange(0, 2); // return (-2) + 0 + 3 = 1\n",
    "numArray.sumRange(2, 5); // return 3 + (-5) + 2 + (-1) = -1\n",
    "numArray.sumRange(0, 5); // return (-2) + 0 + 3 + (-5) + 2 + (-1) = -3\n",
    "\n",
    "URL: https://leetcode.com/problems/range-sum-query-immutable/description/?envType=problem-list-v2&envId=array"
   ]
  },
  {
   "cell_type": "code",
   "execution_count": 12,
   "id": "cab558cf",
   "metadata": {},
   "outputs": [
    {
     "name": "stdout",
     "output_type": "stream",
     "text": [
      "1\n"
     ]
    }
   ],
   "source": [
    "from typing import List \n",
    "\n",
    "# Brute Force Solution \n",
    "class NumArrayBruteForce:\n",
    "    def __init__(self, nums: List[int]) -> None: \n",
    "        self.nums = nums \n",
    "    def sumRange(self, left: int, right: int) -> int: \n",
    "        return sum(self.nums[left:right+1])\n",
    "\n",
    "# Optimized \n",
    "class NumArray:\n",
    "    def __init__(self, nums: List[int]) -> None: \n",
    "        self.prefix = [0] * len(nums)\n",
    "        self.prefix[0] = nums[0]\n",
    "        p1 = 1\n",
    "        while(p1 < len(nums)): \n",
    "            self.prefix[p1] = self.prefix[p1 - 1] + nums[p1]\n",
    "            p1 += 1 \n",
    "\n",
    "    def sumRange(self, left: int, right: int) -> int: \n",
    "        return self.prefix[right] if left == 0 else self.prefix[right] - self.prefix[left - 1]\n",
    "    \n",
    "obj = NumArray([-2,0,3,-5,2,-1])\n",
    "print(obj.sumRange(0,2))"
   ]
  },
  {
   "cell_type": "code",
   "execution_count": 13,
   "id": "f6374483",
   "metadata": {},
   "outputs": [
    {
     "name": "stdout",
     "output_type": "stream",
     "text": [
      "2\n"
     ]
    }
   ],
   "source": [
    "from typing import List \n",
    "\n",
    "def findContentChildren(g: List[int], s: List[int]) -> int:\n",
    "        p1 = len(g) - 1\n",
    "        p2 = len(s) - 1\n",
    "        g = sorted(g) \n",
    "        s = sorted(s) \n",
    "        satisfied = 0\n",
    "        while (p2 >= 0 and p1 >= 0):\n",
    "            if (s[p2] >= g[p1]):\n",
    "                satisfied += 1\n",
    "                p2 -= 1\n",
    "                p1 -= 1\n",
    "            else:\n",
    "                p1 -= 1\n",
    "        return satisfied\n",
    "\n",
    "g = [10,9,8,7]\n",
    "s = [5,6,7,8]\n",
    "print(findContentChildren(g, s))"
   ]
  },
  {
   "cell_type": "markdown",
   "id": "0a32fdf0",
   "metadata": {},
   "source": [
    "### 1929. Concatenation of Array\n",
    "Given an integer array nums of length n, you want to create an array ans of length 2n where ans[i] == nums[i] and ans[i + n] == nums[i] for 0 <= i < n (0-indexed).\n",
    "\n",
    "Specifically, ans is the concatenation of two nums arrays.\n",
    "\n",
    "Return the array ans.\n",
    "\n",
    "Example 1:\n",
    "\n",
    "Input: nums = [1,2,1]\n",
    "Output: [1,2,1,1,2,1]\n",
    "Explanation: The array ans is formed as follows:\n",
    "- ans = [nums[0],nums[1],nums[2],nums[0],nums[1],nums[2]]\n",
    "- ans = [1,2,1,1,2,1]\n",
    "Example 2:\n",
    "\n",
    "Input: nums = [1,3,2,1]\n",
    "Output: [1,3,2,1,1,3,2,1]\n",
    "Explanation: The array ans is formed as follows:\n",
    "- ans = [nums[0],nums[1],nums[2],nums[3],nums[0],nums[1],nums[2],nums[3]]\n",
    "- ans = [1,3,2,1,1,3,2,1]\n",
    " \n",
    "Constraints:\n",
    "\n",
    "n == nums.length\n",
    "1 <= n <= 1000\n",
    "1 <= nums[i] <= 1000\n",
    "\n",
    "URL: https://leetcode.com/problems/concatenation-of-array/description/"
   ]
  },
  {
   "cell_type": "code",
   "execution_count": 14,
   "id": "8e76e979",
   "metadata": {},
   "outputs": [
    {
     "name": "stdout",
     "output_type": "stream",
     "text": [
      "[1, 2, 1, 1, 2, 1]\n",
      "[1, 3, 2, 1, 1, 3, 2, 1]\n"
     ]
    }
   ],
   "source": [
    "from typing import List \n",
    "def getConcatenation(nums: List[int]) -> List[int]:\n",
    "    return nums + nums\n",
    "\n",
    "res1 = getConcatenation([1,2,1]) \n",
    "print(res1)\n",
    "\n",
    "res2 = getConcatenation([1,3,2,1])\n",
    "print(res2)"
   ]
  },
  {
   "cell_type": "markdown",
   "id": "e17e4c74",
   "metadata": {},
   "source": [
    "### 1920. Build Array from Permutation\n",
    "\n",
    "Given a zero-based permutation nums (0-indexed), build an array ans of the same length where ans[i] = nums[nums[i]] for each 0 <= i < nums.length and return it.\n",
    "\n",
    "A zero-based permutation nums is an array of distinct integers from 0 to nums.length - 1 (inclusive).\n",
    "\n",
    " \n",
    "\n",
    "Example 1:\n",
    "\n",
    "Input: nums = [0,2,1,5,3,4]\n",
    "Output: [0,1,2,4,5,3]\n",
    "Explanation: The array ans is built as follows: \n",
    "ans = [nums[nums[0]], nums[nums[1]], nums[nums[2]], nums[nums[3]], nums[nums[4]], nums[nums[5]]]\n",
    "    = [nums[0], nums[2], nums[1], nums[5], nums[3], nums[4]]\n",
    "    = [0,1,2,4,5,3]\n",
    "Example 2:\n",
    "\n",
    "Input: nums = [5,0,1,2,3,4]\n",
    "Output: [4,5,0,1,2,3]\n",
    "Explanation: The array ans is built as follows:\n",
    "ans = [nums[nums[0]], nums[nums[1]], nums[nums[2]], nums[nums[3]], nums[nums[4]], nums[nums[5]]]\n",
    "    = [nums[5], nums[0], nums[1], nums[2], nums[3], nums[4]]\n",
    "    = [4,5,0,1,2,3]\n",
    " \n",
    "\n",
    "Constraints:\n",
    "\n",
    "1 <= nums.length <= 1000\n",
    "0 <= nums[i] < nums.length\n",
    "The elements in nums are distinct.\n",
    " \n",
    "URL: https://leetcode.com/problems/build-array-from-permutation/description/"
   ]
  },
  {
   "cell_type": "markdown",
   "id": "9a272291",
   "metadata": {},
   "source": [
    "#### "
   ]
  },
  {
   "cell_type": "code",
   "execution_count": 15,
   "id": "a6316a04",
   "metadata": {},
   "outputs": [
    {
     "name": "stdout",
     "output_type": "stream",
     "text": [
      "[0, 1, 2, 4, 5, 3] [4, 5, 0, 1, 2, 3]\n"
     ]
    }
   ],
   "source": [
    "from typing import List \n",
    "\n",
    "def buildArray(nums: List[int]) -> List[int]:\n",
    "    return [nums[x] for x in nums]\n",
    "\n",
    "res1 = buildArray([0,2,1,5,3,4])\n",
    "res2 = buildArray([5,0,1,2,3,4])\n",
    "\n",
    "print(res1, res2)"
   ]
  },
  {
   "cell_type": "markdown",
   "id": "0c87739b",
   "metadata": {},
   "source": [
    "### 1512. Number of Good Pairs\n",
    "Easy\n",
    "Topics\n",
    "Companies\n",
    "Hint\n",
    "Given an array of integers nums, return the number of good pairs.\n",
    "\n",
    "A pair (i, j) is called good if nums[i] == nums[j] and i < j.\n",
    "\n",
    "Example 1:\n",
    "\n",
    "Input: nums = [1,2,3,1,1,3]\n",
    "Output: 4\n",
    "Explanation: There are 4 good pairs (0,3), (0,4), (3,4), (2,5) 0-indexed.\n",
    "Example 2:\n",
    "\n",
    "Input: nums = [1,1,1,1]\n",
    "Output: 6\n",
    "Explanation: Each pair in the array are good.\n",
    "Example 3:\n",
    "\n",
    "Input: nums = [1,2,3]\n",
    "Output: 0\n",
    " \n",
    "Constraints:\n",
    "\n",
    "1 <= nums.length <= 100\n",
    "1 <= nums[i] <= 100\n",
    "\n",
    "URL: https://leetcode.com/problems/number-of-good-pairs/description/"
   ]
  },
  {
   "cell_type": "code",
   "execution_count": 16,
   "id": "22a7fdff",
   "metadata": {},
   "outputs": [
    {
     "name": "stdout",
     "output_type": "stream",
     "text": [
      "4 6 0\n"
     ]
    }
   ],
   "source": [
    "from typing import List \n",
    "\n",
    "def numIdenticalPairs(nums: List[int]) -> int:\n",
    "    counted_pairs = 0 \n",
    "    for i in range(len(nums)):\n",
    "        for j in range(i + 1, len(nums)):\n",
    "            if (nums[i] == nums[j]):\n",
    "                counted_pairs = counted_pairs + 1\n",
    "    return counted_pairs\n",
    "\n",
    "# This can be optimized using a dictionary. \n",
    "# Write the code if you want to proceed\n",
    "\n",
    "res1 = numIdenticalPairs([1,2,3,1,1,3])\n",
    "res2 = numIdenticalPairs([1,1,1,1])\n",
    "res3 = numIdenticalPairs([1,2,3])\n",
    "print(res1, res2, res3)"
   ]
  },
  {
   "cell_type": "markdown",
   "id": "91f0b0e4",
   "metadata": {},
   "source": [
    "#### 69. Sqrt(x)\n",
    "Easy\n",
    "Topics\n",
    "Companies\n",
    "Hint\n",
    "Given a non-negative integer x, return the square root of x rounded down to the nearest integer. The returned integer should be non-negative as well.\n",
    "\n",
    "You must not use any built-in exponent function or operator.\n",
    "\n",
    "For example, do not use pow(x, 0.5) in c++ or x ** 0.5 in python.\n",
    " \n",
    "Example 1:\n",
    "\n",
    "Input: x = 4\n",
    "Output: 2\n",
    "Explanation: The square root of 4 is 2, so we return 2.\n",
    "Example 2:\n",
    "\n",
    "Input: x = 8\n",
    "Output: 2\n",
    "Explanation: The square root of 8 is 2.82842..., and since we round it down to the nearest integer, 2 is returned.\n",
    " \n",
    "\n",
    "Constraints:\n",
    "\n",
    "0 <= x <= 231 - 1\n",
    "\n",
    "URL: https://leetcode.com/problems/sqrtx/description/"
   ]
  },
  {
   "cell_type": "code",
   "execution_count": 17,
   "id": "83805ae3",
   "metadata": {},
   "outputs": [
    {
     "data": {
      "text/plain": [
       "5"
      ]
     },
     "execution_count": 17,
     "metadata": {},
     "output_type": "execute_result"
    }
   ],
   "source": [
    "# Brute Force Solution \n",
    "def mySqrtBruteForce(x: int) -> int: \n",
    "    count = 0 \n",
    "    odd = 1 \n",
    "    while x >= odd: \n",
    "        x -= odd\n",
    "        odd += 2 \n",
    "        count += 1 \n",
    "    return count \n",
    "\n",
    "# Optimized Solution using Binary Search \n",
    "def mySqrt(x: int) -> int: \n",
    "    if x == 0 or x == 1: \n",
    "        return x \n",
    "    \n",
    "    low = 0\n",
    "    high = x \n",
    "    res = 0 \n",
    "\n",
    "    while low <= high: \n",
    "        mid = (low + high) // 2 \n",
    "        square = mid * mid \n",
    "\n",
    "        if (square == x):\n",
    "            return mid \n",
    "        elif (square < x): \n",
    "            res = mid \n",
    "            low = mid + 1 \n",
    "        else:\n",
    "            high = mid - 1 \n",
    "    \n",
    "    return res \n",
    "\n",
    "mySqrt(25) "
   ]
  },
  {
   "cell_type": "markdown",
   "id": "5a1d5222",
   "metadata": {},
   "source": [
    "### 2011. Final Value of Variable After Performing Operations\n",
    "\n",
    "There is a programming language with only four operations and one variable X:\n",
    "\n",
    "++X and X++ increments the value of the variable X by 1.\n",
    "--X and X-- decrements the value of the variable X by 1.\n",
    "Initially, the value of X is 0.\n",
    "\n",
    "Given an array of strings operations containing a list of operations, return the final value of X after performing all the operations.\n",
    "\n",
    " \n",
    "\n",
    "Example 1:\n",
    "\n",
    "Input: operations = [\"--X\",\"X++\",\"X++\"]\n",
    "Output: 1\n",
    "Explanation: The operations are performed as follows:\n",
    "Initially, X = 0.\n",
    "--X: X is decremented by 1, X =  0 - 1 = -1.\n",
    "X++: X is incremented by 1, X = -1 + 1 =  0.\n",
    "X++: X is incremented by 1, X =  0 + 1 =  1.\n",
    "Example 2:\n",
    "\n",
    "Input: operations = [\"++X\",\"++X\",\"X++\"]\n",
    "Output: 3\n",
    "Explanation: The operations are performed as follows:\n",
    "Initially, X = 0.\n",
    "++X: X is incremented by 1, X = 0 + 1 = 1.\n",
    "++X: X is incremented by 1, X = 1 + 1 = 2.\n",
    "X++: X is incremented by 1, X = 2 + 1 = 3.\n",
    "Example 3:\n",
    "\n",
    "Input: operations = [\"X++\",\"++X\",\"--X\",\"X--\"]\n",
    "Output: 0\n",
    "Explanation: The operations are performed as follows:\n",
    "Initially, X = 0.\n",
    "X++: X is incremented by 1, X = 0 + 1 = 1.\n",
    "++X: X is incremented by 1, X = 1 + 1 = 2.\n",
    "--X: X is decremented by 1, X = 2 - 1 = 1.\n",
    "X--: X is decremented by 1, X = 1 - 1 = 0.\n",
    " \n",
    "\n",
    "Constraints:\n",
    "\n",
    "1 <= operations.length <= 100\n",
    "operations[i] will be either \"++X\", \"X++\", \"--X\", or \"X--\"."
   ]
  },
  {
   "cell_type": "code",
   "execution_count": 18,
   "id": "9480ee42",
   "metadata": {},
   "outputs": [
    {
     "name": "stdout",
     "output_type": "stream",
     "text": [
      "1 3\n"
     ]
    }
   ],
   "source": [
    "from typing import List \n",
    "def finalValueAfterOperations(operations: List[str]) -> int:\n",
    "    x = 0 \n",
    "\n",
    "    for operation in operations:\n",
    "        if (operation == 'X++' or operation == '++X'):\n",
    "            x = 1 + x \n",
    "        if (operation == 'X--' or operation == '--X'):\n",
    "            x = x - 1\n",
    "    return x\n",
    "\n",
    "res1 = finalValueAfterOperations([\"--X\",\"X++\",\"X++\"])\n",
    "res2 = finalValueAfterOperations([\"++X\",\"++X\",\"X++\"])\n",
    "\n",
    "\n",
    "print(res1, res2)"
   ]
  },
  {
   "cell_type": "markdown",
   "id": "388282e7",
   "metadata": {},
   "source": [
    "### 1470. Shuffle the Array\n",
    "Easy\n",
    "Topics\n",
    "Companies\n",
    "Hint\n",
    "Given the array nums consisting of 2n elements in the form [x1,x2,...,xn,y1,y2,...,yn].\n",
    "\n",
    "Return the array in the form [x1,y1,x2,y2,...,xn,yn].\n",
    "\n",
    " \n",
    "\n",
    "Example 1:\n",
    "\n",
    "Input: nums = [2,5,1,3,4,7], n = 3\n",
    "Output: [2,3,5,4,1,7] \n",
    "Explanation: Since x1=2, x2=5, x3=1, y1=3, y2=4, y3=7 then the answer is [2,3,5,4,1,7].\n",
    "Example 2:\n",
    "\n",
    "Input: nums = [1,2,3,4,4,3,2,1], n = 4\n",
    "Output: [1,4,2,3,3,2,4,1]\n",
    "Example 3:\n",
    "\n",
    "Input: nums = [1,1,2,2], n = 2\n",
    "Output: [1,2,1,2]"
   ]
  },
  {
   "cell_type": "code",
   "execution_count": 19,
   "id": "9365e61c",
   "metadata": {},
   "outputs": [
    {
     "name": "stdout",
     "output_type": "stream",
     "text": [
      "[2, 3, 5, 4, 1, 7] [1, 2, 1, 2] [1, 4, 2, 3, 3, 2, 4, 1]\n"
     ]
    }
   ],
   "source": [
    "def shuffle(nums: List[int], n: int) -> List[int]:\n",
    "    shuffled_arr = (2 * n) * [0]\n",
    "\n",
    "    i = 0 \n",
    "    j = 0 \n",
    "    k = n \n",
    "\n",
    "    while (i < (2 * n)):\n",
    "        if (i % 2 == 0):\n",
    "            shuffled_arr[i] = nums[j]\n",
    "            j = j + 1\n",
    "        else:\n",
    "            shuffled_arr[i] = nums[k]\n",
    "            k = k + 1\n",
    "\n",
    "        i = i + 1\n",
    "    \n",
    "    return shuffled_arr\n",
    "\n",
    "res1 = shuffle([2,5,1,3,4,7], 3)\n",
    "res2 = shuffle([1,1,2,2], 2)\n",
    "res3 = shuffle([1,2,3,4,4,3,2,1], 4)\n",
    "\n",
    "print(res1, res2, res3)"
   ]
  },
  {
   "cell_type": "markdown",
   "id": "b442a968",
   "metadata": {},
   "source": [
    "### 2942. Find Words Containing Character\n",
    "Easy\n",
    "Topics\n",
    "Companies\n",
    "Hint\n",
    "You are given a 0-indexed array of strings words and a character x.\n",
    "\n",
    "Return an array of indices representing the words that contain the character x.\n",
    "\n",
    "Note that the returned array may be in any order.\n",
    "\n",
    " \n",
    "\n",
    "Example 1:\n",
    "\n",
    "Input: words = [\"leet\",\"code\"], x = \"e\"\n",
    "Output: [0,1]\n",
    "Explanation: \"e\" occurs in both words: \"leet\", and \"code\". Hence, we return indices 0 and 1.\n",
    "Example 2:\n",
    "\n",
    "Input: words = [\"abc\",\"bcd\",\"aaaa\",\"cbc\"], x = \"a\"\n",
    "Output: [0,2]\n",
    "Explanation: \"a\" occurs in \"abc\", and \"aaaa\". Hence, we return indices 0 and 2.\n",
    "Example 3:\n",
    "\n",
    "Input: words = [\"abc\",\"bcd\",\"aaaa\",\"cbc\"], x = \"z\"\n",
    "Output: []\n",
    "Explanation: \"z\" does not occur in any of the words. Hence, we return an empty array."
   ]
  },
  {
   "cell_type": "code",
   "execution_count": 20,
   "id": "ea23b1aa",
   "metadata": {},
   "outputs": [
    {
     "name": "stdout",
     "output_type": "stream",
     "text": [
      "[0, 1] [0, 2]\n"
     ]
    }
   ],
   "source": [
    "def findWordsContaining(words: List[str], x: str) -> List[int]:\n",
    "    i = 0 \n",
    "    indices = []\n",
    "    \n",
    "    while (i < len(words)):\n",
    "        if (x in words[i]):\n",
    "            indices.append(i)\n",
    "\n",
    "        i = i + 1 \n",
    "\n",
    "    return indices\n",
    "\n",
    "res1 = findWordsContaining(['leet', 'code'], 'e')\n",
    "res2 = findWordsContaining(['abc', 'bcd', 'aaaa', 'cbc'], 'a')\n",
    "\n",
    "print(res1, res2)"
   ]
  },
  {
   "cell_type": "markdown",
   "id": "efae09e4",
   "metadata": {},
   "source": [
    "## 1672. Richest Customer Wealth\n",
    "Easy\n",
    "Topics\n",
    "Companies\n",
    "Hint\n",
    "You are given an m x n integer grid accounts where accounts[i][j] is the amount of money the i​​​​​​​​​​​th​​​​ customer has in the j​​​​​​​​​​​th​​​​ bank. Return the wealth that the richest customer has.\n",
    "\n",
    "A customer's wealth is the amount of money they have in all their bank accounts. The richest customer is the customer that has the maximum wealth.\n",
    "\n",
    " \n",
    "\n",
    "Example 1:\n",
    "\n",
    "Input: accounts = [[1,2,3],[3,2,1]]\n",
    "Output: 6\n",
    "Explanation:\n",
    "1st customer has wealth = 1 + 2 + 3 = 6\n",
    "2nd customer has wealth = 3 + 2 + 1 = 6\n",
    "Both customers are considered the richest with a wealth of 6 each, so return 6.\n",
    "Example 2:\n",
    "\n",
    "Input: accounts = [[1,5],[7,3],[3,5]]\n",
    "Output: 10\n",
    "Explanation: \n",
    "1st customer has wealth = 6\n",
    "2nd customer has wealth = 10 \n",
    "3rd customer has wealth = 8\n",
    "The 2nd customer is the richest with a wealth of 10.\n",
    "Example 3:\n",
    "\n",
    "Input: accounts = [[2,8,7],[7,1,3],[1,9,5]]\n",
    "Output: 17\n",
    " \n",
    "\n",
    "Constraints:\n",
    "\n",
    "m == accounts.length\n",
    "n == accounts[i].length\n",
    "1 <= m, n <= 50\n",
    "1 <= accounts[i][j] <= 100"
   ]
  },
  {
   "cell_type": "code",
   "execution_count": 21,
   "id": "6713b416",
   "metadata": {},
   "outputs": [
    {
     "name": "stdout",
     "output_type": "stream",
     "text": [
      "6 10\n"
     ]
    }
   ],
   "source": [
    "def maximumWealth(accounts: List[List[int]]) -> int:\n",
    "    biggest_account = 0 \n",
    "\n",
    "    for customer_accounts in accounts:\n",
    "        biggest_account = max(biggest_account, sum(customer_accounts))\n",
    "    \n",
    "    return biggest_account\n",
    "\n",
    "res1 = maximumWealth([[1,2,3],[3,2,1]])\n",
    "res2 = maximumWealth([[1,5], [7,3],[3,5]])\n",
    "\n",
    "print(res1, res2)"
   ]
  },
  {
   "cell_type": "markdown",
   "id": "e6dbedf3",
   "metadata": {},
   "source": [
    "### 27. Remove Element\n",
    "Easy\n",
    "Topics\n",
    "Companies\n",
    "Hint\n",
    "Given an integer array nums and an integer val, remove all occurrences of val in nums in-place. The order of the elements may be changed. Then return the number of elements in nums which are not equal to val.\n",
    "\n",
    "Consider the number of elements in nums which are not equal to val be k, to get accepted, you need to do the following things:\n",
    "\n",
    "Change the array nums such that the first k elements of nums contain the elements which are not equal to val. The remaining elements of nums are not important as well as the size of nums.\n",
    "Return k.\n",
    "Custom Judge:"
   ]
  },
  {
   "cell_type": "code",
   "execution_count": 22,
   "id": "159a1700",
   "metadata": {},
   "outputs": [
    {
     "name": "stdout",
     "output_type": "stream",
     "text": [
      "5 [0, 1, 3, 0, 4, 0, 4, 2]\n"
     ]
    }
   ],
   "source": [
    "from typing import List\n",
    "\n",
    "def removeElement(nums: List[int], val: int) -> int: \n",
    "    left = 0 \n",
    "    right = 0 \n",
    "\n",
    "    while (right < len(nums)):\n",
    "        if (nums[right] != val):\n",
    "            nums[left] = nums[right]\n",
    "            left = left + 1\n",
    "        right = right + 1 \n",
    "    return left \n",
    "\n",
    "\n",
    "nums = [0,1,2,2,3,0,4,2]\n",
    "val = 2 \n",
    "\n",
    "k = removeElement(nums, val) \n",
    "\n",
    "print(k, nums)"
   ]
  },
  {
   "cell_type": "markdown",
   "id": "12a24d6b",
   "metadata": {},
   "source": [
    "### 561. Array Partition\n",
    "\n",
    "Given an integer array nums of 2n integers, group these integers into n pairs (a1, b1), (a2, b2), ..., (an, bn) such that the sum of min(ai, bi) for all i is maximized. Return the maximized sum.\n",
    "\n",
    "\n",
    "Example 1:\n",
    "\n",
    "Input: nums = [1,4,3,2]\n",
    "Output: 4\n",
    "Explanation: All possible pairings (ignoring the ordering of elements) are:\n",
    "1. (1, 4), (2, 3) -> min(1, 4) + min(2, 3) = 1 + 2 = 3\n",
    "2. (1, 3), (2, 4) -> min(1, 3) + min(2, 4) = 1 + 2 = 3\n",
    "3. (1, 2), (3, 4) -> min(1, 2) + min(3, 4) = 1 + 3 = 4\n",
    "So the maximum possible sum is 4.\n",
    "Example 2:\n",
    "\n",
    "Input: nums = [6,2,6,5,1,2]\n",
    "Output: 9\n",
    "Explanation: The optimal pairing is (2, 1), (2, 5), (6, 6). min(2, 1) + min(2, 5) + min(6, 6) = 1 + 2 + 6 = 9.\n",
    " \n",
    "\n",
    "Constraints:\n",
    "\n",
    "- 1 <= n <= 104\n",
    "- nums.length == 2 * n\n",
    "- -104 <= nums[i] <= 104"
   ]
  },
  {
   "cell_type": "code",
   "execution_count": 25,
   "id": "2d2c59a5",
   "metadata": {},
   "outputs": [
    {
     "name": "stdout",
     "output_type": "stream",
     "text": [
      "0 [1, 2]\n",
      "2 [3, 4]\n",
      "4\n",
      "0 [1, 2]\n",
      "2 [2, 5]\n",
      "4 [6, 6]\n",
      "9\n"
     ]
    }
   ],
   "source": [
    "from typing import List \n",
    "\n",
    "def array_pair_sum(nums: List[int]) -> int: \n",
    "    '''get the pair sum'''\n",
    "    nums.sort() \n",
    "    max_sum = 0 \n",
    "    for i in range(0, len(nums), 2): \n",
    "        print(i, nums[i:i+2])\n",
    "        max_sum += nums[i] \n",
    "    return max_sum \n",
    "\n",
    "print(array_pair_sum([1,4,3,2]))\n",
    "print(array_pair_sum([6,2,6,5,1,2]))"
   ]
  }
 ],
 "metadata": {
  "kernelspec": {
   "display_name": "Python 3",
   "language": "python",
   "name": "python3"
  },
  "language_info": {
   "codemirror_mode": {
    "name": "ipython",
    "version": 3
   },
   "file_extension": ".py",
   "mimetype": "text/x-python",
   "name": "python",
   "nbconvert_exporter": "python",
   "pygments_lexer": "ipython3",
   "version": "3.12.2"
  }
 },
 "nbformat": 4,
 "nbformat_minor": 5
}
