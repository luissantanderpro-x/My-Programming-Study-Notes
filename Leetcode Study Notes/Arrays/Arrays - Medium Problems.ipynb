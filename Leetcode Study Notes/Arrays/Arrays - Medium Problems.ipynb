{
 "cells": [
  {
   "cell_type": "markdown",
   "metadata": {},
   "source": [
    "## Arrays - Medium Problem Sets"
   ]
  },
  {
   "cell_type": "markdown",
   "metadata": {},
   "source": [
    "### 11. Container with Most Water\n",
    "\n",
    "Problem: You are given an integer array height of length n. There are n vertical lines drawn such that the two endpoints of the ith line are (i, 0) and (i, height[i]).\n",
    "\n",
    "Find two lines that together with the x-axis form a container, such that the container contains the most water.\n",
    "\n",
    "Return the maximum amount of water a container can store.\n",
    "\n",
    "Notice that you may not slant the container.\n",
    "\n",
    "Example 1:\n",
    "Input: height = [1,8,6,2,5,4,8,3,7]\n",
    "Output: 49\n",
    "Explanation: The above vertical lines are represented by array [1,8,6,2,5,4,8,3,7]. In this case, the max area of water (blue section) the container can contain is 49.\n",
    "\n",
    "https://leetcode.com/problems/container-with-most-water/description/"
   ]
  },
  {
   "cell_type": "code",
   "execution_count": 9,
   "metadata": {},
   "outputs": [
    {
     "name": "stdout",
     "output_type": "stream",
     "text": [
      "9\n",
      "2\n"
     ]
    }
   ],
   "source": [
    "from typing import List \n",
    "\n",
    "# Brute Force Solution \n",
    "def maxAreaBruteForce(height: List[int]) -> int: \n",
    "    n = len(height) \n",
    "    p1 = 0 \n",
    "    max_area = -1 \n",
    "    while (p1 < n):\n",
    "        p2 = p1 + 1 \n",
    "        while (p2 < n): \n",
    "            length = min(height[p1], height[p2])\n",
    "            area = (p2 - p1) * length\n",
    "            if (area > max_area):\n",
    "                max_area = area \n",
    "            p2 += 1\n",
    "        p1 += 1\n",
    "    return max_area\n",
    "\n",
    "def maxArea(height: List[int]) -> int: \n",
    "    n = len(height) \n",
    "    p1 = 0\n",
    "    p2 = n - 1  \n",
    "    max_area = -1 \n",
    "    while (p1 < p2 and p1 < n): \n",
    "        area = min(height[p1], height[p2]) * (p2 - p1) \n",
    "        if (area >= max_area):\n",
    "            max_area = area \n",
    "        if (height[p1] < height[p2]):\n",
    "            p1 += 1 \n",
    "        else:\n",
    "            p2 -= 1 \n",
    "    return max_area\n",
    "\n",
    "heights = [1,2,3,1000,9]\n",
    "area = maxArea(heights)\n",
    "print(area)\n",
    "\n",
    "heights = [1,2,1]\n",
    "area = maxArea(heights)\n",
    "print(area) "
   ]
  }
 ],
 "metadata": {
  "kernelspec": {
   "display_name": "Python 3",
   "language": "python",
   "name": "python3"
  },
  "language_info": {
   "codemirror_mode": {
    "name": "ipython",
    "version": 3
   },
   "file_extension": ".py",
   "mimetype": "text/x-python",
   "name": "python",
   "nbconvert_exporter": "python",
   "pygments_lexer": "ipython3",
   "version": "3.12.2"
  }
 },
 "nbformat": 4,
 "nbformat_minor": 2
}
