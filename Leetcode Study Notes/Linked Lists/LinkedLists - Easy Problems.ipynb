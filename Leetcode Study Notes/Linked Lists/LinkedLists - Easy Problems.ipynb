{
 "cells": [
  {
   "cell_type": "markdown",
   "metadata": {},
   "source": [
    "# Linked Lists - Easy Problem Sets"
   ]
  },
  {
   "cell_type": "markdown",
   "metadata": {},
   "source": [
    "#### 206. Reverse Linked List\n",
    "\n",
    "Given the head of a singly linked list, reverse the list, and return the reversed list.\n",
    "\n",
    "URL: https://leetcode.com/problems/reverse-linked-list/description/"
   ]
  },
  {
   "cell_type": "markdown",
   "metadata": {},
   "source": []
  },
  {
   "cell_type": "code",
   "execution_count": null,
   "metadata": {},
   "outputs": [
    {
     "name": "stdout",
     "output_type": "stream",
     "text": [
      "5\n",
      "4\n",
      "3\n",
      "2\n",
      "1\n"
     ]
    }
   ],
   "source": [
    "from typing import Optional, List \n",
    "\n",
    "class ListNode:\n",
    "    def __init__(self, val=0, next=None):\n",
    "        self.val = val \n",
    "        self.next = next\n",
    "\n",
    "def create_linked_list(values: List[int]) -> Optional[ListNode]:\n",
    "    head = ListNode()\n",
    "    temp = head \n",
    "    i = 0 \n",
    "    while (i < len(values)):\n",
    "        temp.next = ListNode(values[i])\n",
    "        temp = temp.next \n",
    "        i += 1 \n",
    "    return head.next \n",
    "\n",
    "def print_linked_list(head: Optional[ListNode]) -> Optional[ListNode]: \n",
    "    '''Prints Linked List to Console'''\n",
    "    temp = head \n",
    "    result = \"\"\n",
    "    while (temp):\n",
    "        result += str(temp.val) + \" -> \"\n",
    "        temp = temp.next \n",
    "    print(result) \n",
    "\n",
    "def reverseListStack(head: Optional[ListNode]) -> Optional[ListNode]:\n",
    "    reversed_list = ListNode() \n",
    "    stack = [] \n",
    "    temp = head \n",
    "    while (temp):\n",
    "        stack.append(temp) \n",
    "        temp = temp.next\n",
    "    temp = reversed_list\n",
    "    while (stack != []):\n",
    "        node = stack.pop() \n",
    "        node.next = None \n",
    "        temp.next = node \n",
    "        temp = temp.next  \n",
    "    return reversed_list.next\n",
    "\n",
    "# Recursive Solution \n",
    "def reverseListRecursive(head: Optional[ListNode]) -> Optional[ListNode]:\n",
    "    if (head.next == None):\n",
    "        return head \n",
    "    node = reverseListRecursive(head.next)\n",
    "    head.next.next = head \n",
    "    head.next = None \n",
    "    return node \n",
    "\n",
    "# Without Additional Memory just O(n) \n",
    "def reverseList(head: Optional[ListNode]) -> Optional[ListNode]:\n",
    "    prev = None \n",
    "    current = head \n",
    "\n",
    "    while (current):\n",
    "        next = current.next\n",
    "        current.next = prev\n",
    "        prev = current \n",
    "        current = next \n",
    "    \n",
    "    return prev \n",
    "\n",
    "values = [1,2,3,4,5]\n",
    "head = create_linked_list(values) \n",
    "head = reverseList(head)\n",
    "\n",
    "temp = head \n",
    "\n",
    "while (temp):\n",
    "    print(temp.val)\n",
    "    temp = temp.next "
   ]
  },
  {
   "cell_type": "markdown",
   "metadata": {},
   "source": [
    "#### 83. Remove Duplicates from Sorted List \n",
    "\n",
    "Given the head of a sorted linked list, delete all duplicates such that each element appears only once. Return the linked list sorted as well.\n",
    "\n",
    "The number of nodes in the list is in the range [0, 300].\n",
    "-100 <= Node.val <= 100\n",
    "The list is guaranteed to be sorted in ascending order.\n",
    "\n",
    "URL: https://leetcode.com/problems/remove-duplicates-from-sorted-list/description/?envType=problem-list-v2&envId=linked-list"
   ]
  },
  {
   "cell_type": "code",
   "execution_count": 35,
   "metadata": {},
   "outputs": [
    {
     "name": "stdout",
     "output_type": "stream",
     "text": [
      "1\n",
      "2\n",
      "3\n"
     ]
    }
   ],
   "source": [
    "def deleteDuplicates(head: Optional):\n",
    "    if (head):\n",
    "        prev_node = head\n",
    "        current_node = head.next\n",
    "        while (current_node):\n",
    "            if (prev_node.val != current_node.val): \n",
    "                prev_node = current_node\n",
    "                current_node = current_node.next \n",
    "            else:\n",
    "                prev_node.next = current_node.next \n",
    "                current_node = current_node.next     \n",
    "    return head \n",
    "\n",
    "duplicates = create_linked_list([1,1,2,3,3])\n",
    "list = deleteDuplicates(duplicates) \n",
    "\n",
    "temp = list \n",
    "while (temp):\n",
    "    print(temp.val)\n",
    "    temp = temp.next "
   ]
  },
  {
   "cell_type": "markdown",
   "metadata": {},
   "source": [
    "#### 203. Remove Linked List Elements "
   ]
  },
  {
   "cell_type": "code",
   "execution_count": 10,
   "metadata": {},
   "outputs": [
    {
     "name": "stdout",
     "output_type": "stream",
     "text": [
      "1 -> 2 -> 3 -> 4 -> 5 -> \n"
     ]
    }
   ],
   "source": [
    "def removeElements(head: Optional[ListNode], val: int) -> Optional[ListNode]: \n",
    "    head = ListNode(0, head) \n",
    "    temp = head \n",
    "    prev = ListNode(0, head) \n",
    "    while (temp):\n",
    "        if (temp.val == val):\n",
    "            prev.next = temp.next \n",
    "        else:\n",
    "            prev = temp \n",
    "        temp = temp.next \n",
    "    return head.next\n",
    "\n",
    "vals = [6,1,2,6,3,4,5,6]\n",
    "head = create_linked_list(vals)\n",
    "head = removeElements(head, 6)\n",
    "\n",
    "print_linked_list(head)"
   ]
  },
  {
   "cell_type": "markdown",
   "metadata": {},
   "source": [
    "#### 141. Linked List Cycle \n",
    "Given head, the head of a linked list, determine if the linked list has a cycle in it.\n",
    "\n",
    "There is a cycle in a linked list if there is some node in the list that can be reached again by continuously following the next pointer. Internally, pos is used to denote the index of the node that tail's next pointer is connected to. Note that pos is not passed as a parameter.\n",
    "\n",
    "Return true if there is a cycle in the linked list. Otherwise, return false.\n",
    "\n",
    "- Example 1:\n",
    "\n",
    "\n",
    "- Input: head = [3,2,0,-4], pos = 1\n",
    "Output: true\n",
    "Explanation: There is a cycle in the linked list, where the tail connects to the 1st node (0-indexed).\n",
    "Example 2:\n",
    "\n",
    "\n",
    "- Input: head = [1,2], pos = 0\n",
    "Output: true\n",
    "Explanation: There is a cycle in the linked list, where the tail connects to the 0th node.\n",
    "Example 3:\n",
    "\n",
    "\n",
    "- Input: head = [1], pos = -1\n",
    "Output: false\n",
    "Explanation: There is no cycle in the linked list.\n",
    "\n",
    "URL: https://leetcode.com/problems/linked-list-cycle/description/?envType=problem-list-v2&envId=linked-list"
   ]
  },
  {
   "cell_type": "code",
   "execution_count": 40,
   "metadata": {},
   "outputs": [
    {
     "name": "stdout",
     "output_type": "stream",
     "text": [
      "True\n"
     ]
    }
   ],
   "source": [
    "# Time Complexity: O(n)\n",
    "# Spae Complexity: O(n) \n",
    "\n",
    "# Brute Force Naive \n",
    "def hasCycleBruteforce(head: Optional[ListNode]) -> bool: \n",
    "    cycle_detected = False \n",
    "    temp = head \n",
    "    seen = set() \n",
    "    while (temp):\n",
    "        if (temp not in seen):\n",
    "            seen.add(temp)\n",
    "        else: \n",
    "            cycle_detected = True \n",
    "            break \n",
    "        temp = temp.next \n",
    "    return cycle_detected \n",
    "\n",
    "# Optimized \n",
    "def hasCycle(head: Optional[ListNode]) -> bool: \n",
    "    turtle = head \n",
    "    hare = head\n",
    "    while (turtle and hare and hare.next != None):\n",
    "        turtle = turtle.next     \n",
    "        if (hare.next):\n",
    "            hare = hare.next.next \n",
    "        if (hare == turtle):\n",
    "            return True \n",
    "    return False \n",
    "\n",
    "head = create_linked_list([7032,15013,6890,8877,11344,320,13037,9414,6817,1566])\n",
    "head.next.next = head.next \n",
    "print(hasCycle(head))\n"
   ]
  },
  {
   "cell_type": "markdown",
   "metadata": {},
   "source": []
  }
 ],
 "metadata": {
  "kernelspec": {
   "display_name": "Python 3",
   "language": "python",
   "name": "python3"
  },
  "language_info": {
   "codemirror_mode": {
    "name": "ipython",
    "version": 3
   },
   "file_extension": ".py",
   "mimetype": "text/x-python",
   "name": "python",
   "nbconvert_exporter": "python",
   "pygments_lexer": "ipython3",
   "version": "3.12.2"
  }
 },
 "nbformat": 4,
 "nbformat_minor": 2
}
