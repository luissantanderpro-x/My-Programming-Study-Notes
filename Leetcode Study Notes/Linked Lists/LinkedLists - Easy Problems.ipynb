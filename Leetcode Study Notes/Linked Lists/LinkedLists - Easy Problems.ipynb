{
 "cells": [
  {
   "cell_type": "markdown",
   "metadata": {},
   "source": [
    "# Linked Lists - Easy Problem Sets"
   ]
  },
  {
   "cell_type": "markdown",
   "metadata": {},
   "source": [
    "#### 206. Reverse Linked List\n",
    "\n",
    "Given the head of a singly linked list, reverse the list, and return the reversed list.\n",
    "\n",
    "URL: https://leetcode.com/problems/reverse-linked-list/description/"
   ]
  },
  {
   "cell_type": "markdown",
   "metadata": {},
   "source": []
  },
  {
   "cell_type": "code",
   "execution_count": 2,
   "metadata": {},
   "outputs": [
    {
     "name": "stdout",
     "output_type": "stream",
     "text": [
      "5\n",
      "4\n",
      "3\n",
      "2\n",
      "1\n"
     ]
    }
   ],
   "source": [
    "from typing import Optional, List \n",
    "\n",
    "class ListNode:\n",
    "    def __init__(self, val=0, next=None):\n",
    "        self.val = val \n",
    "        self.next = next\n",
    "\n",
    "def create_linked_list(values: List[int]) -> Optional[ListNode]:\n",
    "    head = ListNode()\n",
    "    temp = head \n",
    "    i = 0 \n",
    "    while (i < len(values)):\n",
    "        temp.next = ListNode(values[i])\n",
    "        temp = temp.next \n",
    "        i += 1 \n",
    "    return head.next \n",
    "\n",
    "def print_linked_list(head: Optional[ListNode]) -> Optional[ListNode]: \n",
    "    '''Prints Linked List to Console'''\n",
    "    temp = head \n",
    "    result = \"\"\n",
    "    while (temp):\n",
    "        result += str(temp.val) + \" -> \"\n",
    "        temp = temp.next \n",
    "    print(result) \n",
    "\n",
    "def reverseListStack(head: Optional[ListNode]) -> Optional[ListNode]:\n",
    "    reversed_list = ListNode() \n",
    "    stack = [] \n",
    "\n",
    "    temp = head \n",
    "\n",
    "    while (temp):\n",
    "        stack.append(temp) \n",
    "        temp = temp.next\n",
    "\n",
    "    temp = reversed_list\n",
    "\n",
    "    while (stack != []):\n",
    "        node = stack.pop() \n",
    "        node.next = None \n",
    "        temp.next = node \n",
    "        temp = temp.next  \n",
    "\n",
    "    return reversed_list.next\n",
    "\n",
    "# Recursive Solution \n",
    "\n",
    "def reverseListRecursive(head: Optional[ListNode]) -> Optional[ListNode]:\n",
    "    if (head.next == None):\n",
    "        return head \n",
    "    node = reverseListRecursive(head.next)\n",
    "    head.next.next = head \n",
    "    head.next = None \n",
    "    return node \n",
    "\n",
    "# Without Additional Memory just O(n) \n",
    "def reverseList(head: Optional[ListNode]) -> Optional[ListNode]:\n",
    "    prev = None \n",
    "    current = head \n",
    "\n",
    "    while (current):\n",
    "        next = current.next\n",
    "        current.next = prev\n",
    "        prev = current \n",
    "        current = next \n",
    "    \n",
    "    return prev \n",
    "\n",
    "\n",
    "values = [1,2,3,4,5]\n",
    "head = create_linked_list(values) \n",
    "head = reverseList(head)\n",
    "\n",
    "temp = head \n",
    "\n",
    "while (temp):\n",
    "    print(temp.val)\n",
    "    temp = temp.next \n"
   ]
  },
  {
   "cell_type": "markdown",
   "metadata": {},
   "source": [
    "#### 83. Remove Duplicates from Sorted List \n",
    "\n",
    "Given the head of a sorted linked list, delete all duplicates such that each element appears only once. Return the linked list sorted as well.\n",
    "\n",
    "The number of nodes in the list is in the range [0, 300].\n",
    "-100 <= Node.val <= 100\n",
    "The list is guaranteed to be sorted in ascending order.\n",
    "\n",
    "URL: https://leetcode.com/problems/remove-duplicates-from-sorted-list/description/?envType=problem-list-v2&envId=linked-list"
   ]
  },
  {
   "cell_type": "code",
   "execution_count": 35,
   "metadata": {},
   "outputs": [
    {
     "name": "stdout",
     "output_type": "stream",
     "text": [
      "1\n",
      "2\n",
      "3\n"
     ]
    }
   ],
   "source": [
    "def deleteDuplicates(head: Optional):\n",
    "    if (head):\n",
    "        prev_node = head\n",
    "        current_node = head.next\n",
    "        while (current_node):\n",
    "            if (prev_node.val != current_node.val): \n",
    "                prev_node = current_node\n",
    "                current_node = current_node.next \n",
    "            else:\n",
    "                prev_node.next = current_node.next \n",
    "                current_node = current_node.next     \n",
    "    return head \n",
    "\n",
    "duplicates = create_linked_list([1,1,2,3,3])\n",
    "list = deleteDuplicates(duplicates) \n",
    "\n",
    "temp = list \n",
    "while (temp):\n",
    "    print(temp.val)\n",
    "    temp = temp.next "
   ]
  },
  {
   "cell_type": "markdown",
   "metadata": {},
   "source": [
    "#### 203. Remove Linked List Elements "
   ]
  },
  {
   "cell_type": "code",
   "execution_count": 10,
   "metadata": {},
   "outputs": [
    {
     "name": "stdout",
     "output_type": "stream",
     "text": [
      "1 -> 2 -> 3 -> 4 -> 5 -> \n"
     ]
    }
   ],
   "source": [
    "def removeElements(head: Optional[ListNode], val: int) -> Optional[ListNode]: \n",
    "    head = ListNode(0, head) \n",
    "    temp = head \n",
    "    prev = ListNode(0, head) \n",
    "    while (temp):\n",
    "        if (temp.val == val):\n",
    "            prev.next = temp.next \n",
    "        else:\n",
    "            prev = temp \n",
    "        temp = temp.next \n",
    "    return head.next\n",
    "\n",
    "vals = [6,1,2,6,3,4,5,6]\n",
    "head = create_linked_list(vals)\n",
    "head = removeElements(head, 6)\n",
    "\n",
    "print_linked_list(head)"
   ]
  },
  {
   "cell_type": "code",
   "execution_count": null,
   "metadata": {},
   "outputs": [],
   "source": []
  }
 ],
 "metadata": {
  "kernelspec": {
   "display_name": "Python 3",
   "language": "python",
   "name": "python3"
  },
  "language_info": {
   "codemirror_mode": {
    "name": "ipython",
    "version": 3
   },
   "file_extension": ".py",
   "mimetype": "text/x-python",
   "name": "python",
   "nbconvert_exporter": "python",
   "pygments_lexer": "ipython3",
   "version": "3.12.2"
  }
 },
 "nbformat": 4,
 "nbformat_minor": 2
}
