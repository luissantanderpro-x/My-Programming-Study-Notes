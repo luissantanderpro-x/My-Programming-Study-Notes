{
 "cells": [
  {
   "cell_type": "markdown",
   "metadata": {},
   "source": [
    "# Linked Lists - Easy Problem Sets"
   ]
  },
  {
   "cell_type": "markdown",
   "metadata": {},
   "source": [
    "#### 206. Reverse Linked List\n",
    "\n",
    "Given the head of a singly linked list, reverse the list, and return the reversed list.\n",
    "\n",
    "URL: https://leetcode.com/problems/reverse-linked-list/description/"
   ]
  },
  {
   "cell_type": "markdown",
   "metadata": {},
   "source": []
  },
  {
   "cell_type": "code",
   "execution_count": 18,
   "metadata": {},
   "outputs": [
    {
     "name": "stdout",
     "output_type": "stream",
     "text": [
      "5\n",
      "4\n",
      "3\n",
      "2\n",
      "1\n"
     ]
    }
   ],
   "source": [
    "from typing import Optional, List \n",
    "\n",
    "class ListNode:\n",
    "    def __init__(self, val=0, next=None):\n",
    "        self.val = val \n",
    "        self.next = next\n",
    "\n",
    "def create_linked_list(values: List[int]) -> Optional[ListNode]:\n",
    "    head = ListNode()\n",
    "    temp = head \n",
    "    i = 0 \n",
    "    while (i < len(values)):\n",
    "        temp.next = ListNode(values[i])\n",
    "        temp = temp.next \n",
    "        i += 1 \n",
    "    return head.next \n",
    "\n",
    "def reverseListStack(head: Optional[ListNode]) -> Optional[ListNode]:\n",
    "    reversed_list = ListNode() \n",
    "    stack = [] \n",
    "\n",
    "    temp = head \n",
    "\n",
    "    while (temp):\n",
    "        stack.append(temp) \n",
    "        temp = temp.next\n",
    "\n",
    "    temp = reversed_list\n",
    "\n",
    "    while (stack != []):\n",
    "        node = stack.pop() \n",
    "        node.next = None \n",
    "        temp.next = node \n",
    "        temp = temp.next  \n",
    "\n",
    "    return reversed_list.next\n",
    "\n",
    "# Recursive Solution \n",
    "\n",
    "def reverseListRecursive(head: Optional[ListNode]) -> Optional[ListNode]:\n",
    "    if (head.next == None):\n",
    "        return head \n",
    "    node = reverseListRecursive(head.next)\n",
    "    head.next.next = head \n",
    "    head.next = None \n",
    "    return node \n",
    "\n",
    "# Without Additional Memory just O(n) \n",
    "def reverseList(head: Optional[ListNode]) -> Optional[ListNode]:\n",
    "    prev = None \n",
    "    current = head \n",
    "\n",
    "    while (current):\n",
    "        next = current.next\n",
    "        current.next = prev\n",
    "        prev = current \n",
    "        current = next \n",
    "    \n",
    "    return prev \n",
    "\n",
    "\n",
    "values = [1,2,3,4,5]\n",
    "head = create_linked_list(values) \n",
    "head = reverseList(head)\n",
    "\n",
    "temp = head \n",
    "\n",
    "while (temp):\n",
    "    print(temp.val)\n",
    "    temp = temp.next \n"
   ]
  }
 ],
 "metadata": {
  "kernelspec": {
   "display_name": "Python 3",
   "language": "python",
   "name": "python3"
  },
  "language_info": {
   "codemirror_mode": {
    "name": "ipython",
    "version": 3
   },
   "file_extension": ".py",
   "mimetype": "text/x-python",
   "name": "python",
   "nbconvert_exporter": "python",
   "pygments_lexer": "ipython3",
   "version": "3.12.2"
  }
 },
 "nbformat": 4,
 "nbformat_minor": 2
}
