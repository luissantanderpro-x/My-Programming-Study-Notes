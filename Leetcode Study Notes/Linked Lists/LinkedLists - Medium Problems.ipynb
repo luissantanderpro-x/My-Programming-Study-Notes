{
 "cells": [
  {
   "cell_type": "markdown",
   "metadata": {},
   "source": [
    "# Linked Lists - Medium Problem Sets"
   ]
  },
  {
   "cell_type": "code",
   "execution_count": 2,
   "metadata": {},
   "outputs": [],
   "source": [
    "from typing import Optional, List \n",
    "\n",
    "class ListNode:\n",
    "    def __init__(self, val=0, next=None):\n",
    "        self.val = val \n",
    "        self.next = next\n",
    "\n",
    "def create_linked_list(values: List[int]) -> Optional[ListNode]:\n",
    "    head = ListNode()\n",
    "    temp = head \n",
    "    i = 0 \n",
    "    while (i < len(values)):\n",
    "        temp.next = ListNode(values[i])\n",
    "        temp = temp.next \n",
    "        i += 1 \n",
    "    return head.next \n",
    "\n",
    "def print_linked_list(head: Optional[ListNode]) -> Optional[ListNode]:\n",
    "    temp = head \n",
    "    result = \"\"\n",
    "    while (temp):\n",
    "        result += str(temp.val) + \" -> \"\n",
    "        temp = temp.next \n",
    "    print(result) "
   ]
  },
  {
   "cell_type": "markdown",
   "metadata": {},
   "source": [
    "#### 92. Reverse Linked List II\n",
    "\n",
    "Given the head of a singly linked list and two integers left and right where left <= right, reverse the nodes of the list from position left to position right, and return the reversed list.\n",
    "\n",
    "#### Example 1:\n",
    "- Input: head = [1,2,3,4,5], left = 2, right = 4\n",
    "- Output: [1,4,3,2,5]\n",
    "\n",
    "URL: https://leetcode.com/problems/reverse-linked-list-ii/"
   ]
  },
  {
   "cell_type": "code",
   "execution_count": 13,
   "metadata": {},
   "outputs": [
    {
     "name": "stdout",
     "output_type": "stream",
     "text": [
      "5 -> 4 -> 3 -> 2 -> 1 -> \n",
      "5 -> \n"
     ]
    }
   ],
   "source": [
    "# I used a dummy node which saved me time with the pointer but \n",
    "# regardless the function down below is way better. \n",
    "def reverseBetweenBruteForce(head: Optional[ListNode], left: int, right: int) -> Optional[ListNode]:\n",
    "    head = ListNode(0, head) \n",
    "    current = head \n",
    "    p1 = 0\n",
    "    prev_tracker = None \n",
    "    while (current):\n",
    "        if (p1 == left):            \n",
    "            prev_tracker.next = None \n",
    "            prev = None \n",
    "            temp_current = current\n",
    "            tail = current\n",
    "            # Reverse the Linked List between Left and Right Positions \n",
    "            while (p1 <= right):\n",
    "                next = temp_current.next \n",
    "                temp_current.next = prev\n",
    "                prev = temp_current\n",
    "                temp_current = next \n",
    "                p1 += 1  \n",
    "            tail.next = next \n",
    "            prev_tracker.next = prev \n",
    "            current = tail \n",
    "        p1 = p1 + 1\n",
    "        prev_tracker = current\n",
    "        current = current.next \n",
    "    return head.next \n",
    "\n",
    "def reverseBetween(head: Optional[ListNode], left: int, right: int) -> Optional[ListNode]:\n",
    "    current = head \n",
    "    p1 = 1\n",
    "    prev_tracker = None \n",
    "    while (current):\n",
    "        if (p1 == left):             \n",
    "            prev = None \n",
    "            temp_current = current\n",
    "            tail = current\n",
    "            # Reverse the Linked List between Left and Right Positions \n",
    "            while (p1 <= right):\n",
    "                next = temp_current.next \n",
    "                temp_current.next = prev\n",
    "                prev = temp_current\n",
    "                temp_current = next \n",
    "                p1 += 1  \n",
    "            tail.next = next \n",
    "            if (prev_tracker):\n",
    "                prev_tracker.next = prev\n",
    "            else:\n",
    "                prev_tracker = prev \n",
    "                head = prev_tracker\n",
    "            current = tail \n",
    "        p1 = p1 + 1\n",
    "        prev_tracker = current\n",
    "        current = current.next \n",
    "    return head \n",
    "\n",
    "head = create_linked_list([1,2,3,4,5])\n",
    "result = reverseBetween(head, 1, 5) \n",
    "print_linked_list(result)\n",
    "\n",
    "head = create_linked_list([5])\n",
    "result = reverseBetween(head, 1, 1) \n",
    "print_linked_list(result)"
   ]
  },
  {
   "cell_type": "markdown",
   "metadata": {},
   "source": [
    "430. Flatten a Multilevel Doubly Linked List \n",
    "\n",
    "You are given a doubly linked list, which contains nodes that have a next pointer, a previous pointer, and an additional child pointer. This child pointer may or may not point to a separate doubly linked list, also containing these special nodes. These child lists may have one or more children of their own, and so on, to produce a multilevel data structure as shown in the example below.\n",
    "\n",
    "Given the head of the first level of the list, flatten the list so that all the nodes appear in a single-level, doubly linked list. Let curr be a node with a child list. The nodes in the child list should appear after curr and before curr.next in the flattened list.\n",
    "\n",
    "Return the head of the flattened list. The nodes in the list must have all of their child pointers set to null.\n",
    "\n",
    "#### Example 1:\n",
    "- head = [1,2,3,4,5,6,null,null,null,7,8,9,10,null,null,11,12]\n",
    "- output = [1,2,3,7,8,11,12,9,10,4,5,6]\n",
    "\n",
    "#### Constraints:\n",
    "- The number of Nodes will node exceed 1000\n",
    "- 1 <= Node.val <= 10^5"
   ]
  },
  {
   "cell_type": "code",
   "execution_count": 80,
   "metadata": {},
   "outputs": [
    {
     "name": "stdout",
     "output_type": "stream",
     "text": [
      "1 -> 3 -> 2 -> \n"
     ]
    }
   ],
   "source": [
    "class Node(ListNode): \n",
    "    def __init__(self, val: int, prev=None, next=None, child=None):\n",
    "        super().__init__(val, next) \n",
    "        self.prev = prev \n",
    "        self.child = child \n",
    "\n",
    "# My Solution Invalid \n",
    "def flatten(head: Optional[Node]):\n",
    "    def recurse(child_head: Optional[Node]):\n",
    "        temp = child_head \n",
    "        prev = None\n",
    "        while (temp):\n",
    "            if (temp.child): \n",
    "                tail = recurse(temp.child)\n",
    "                tail.next = temp.next\n",
    "                \n",
    "                if (tail.next):\n",
    "                    tail.next.prev = tail \n",
    "\n",
    "                temp.next = temp.child \n",
    "                temp.child.prev = temp \n",
    "                temp.child = None \n",
    "                temp = tail \n",
    "            prev = temp \n",
    "            temp = temp.next \n",
    "        return prev \n",
    "    recurse(head)\n",
    "    return head \n",
    "\n",
    "head = Node(1)\n",
    "node2 = Node(2) \n",
    "node3 = Node(3)\n",
    "\n",
    "# Problem 2 \n",
    "head.next = node2 \n",
    "node2.prev = head \n",
    "\n",
    "head.child = node3  \n",
    "\n",
    "flatten(head) \n",
    "\n",
    "\n",
    "print_linked_list(head) \n",
    "\n",
    "\n"
   ]
  },
  {
   "cell_type": "code",
   "execution_count": null,
   "metadata": {},
   "outputs": [],
   "source": []
  }
 ],
 "metadata": {
  "kernelspec": {
   "display_name": "Python 3",
   "language": "python",
   "name": "python3"
  },
  "language_info": {
   "codemirror_mode": {
    "name": "ipython",
    "version": 3
   },
   "file_extension": ".py",
   "mimetype": "text/x-python",
   "name": "python",
   "nbconvert_exporter": "python",
   "pygments_lexer": "ipython3",
   "version": "3.12.2"
  }
 },
 "nbformat": 4,
 "nbformat_minor": 2
}
