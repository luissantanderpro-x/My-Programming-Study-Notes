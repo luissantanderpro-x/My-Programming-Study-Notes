{
 "cells": [
  {
   "cell_type": "markdown",
   "metadata": {},
   "source": [
    "# Linked Lists - Medium Problem Sets"
   ]
  },
  {
   "cell_type": "code",
   "execution_count": 12,
   "metadata": {},
   "outputs": [],
   "source": [
    "from typing import Optional, List \n",
    "\n",
    "class ListNode:\n",
    "    def __init__(self, val=0, next=None):\n",
    "        self.val = val \n",
    "        self.next = next\n",
    "\n",
    "def create_linked_list(values: List[int]) -> Optional[ListNode]:\n",
    "    head = ListNode()\n",
    "    temp = head \n",
    "    i = 0 \n",
    "    while (i < len(values)):\n",
    "        temp.next = ListNode(values[i])\n",
    "        temp = temp.next \n",
    "        i += 1 \n",
    "    return head.next \n",
    "\n",
    "def print_linked_list(head: Optional[ListNode]) -> Optional[ListNode]:\n",
    "    temp = head \n",
    "    result = \"\"\n",
    "    while (temp):\n",
    "        result += str(temp.val) + \" -> \"\n",
    "        temp = temp.next \n",
    "    print(result) "
   ]
  },
  {
   "cell_type": "markdown",
   "metadata": {},
   "source": [
    "#### 92. Reverse Linked List II\n",
    "\n",
    "Given the head of a singly linked list and two integers left and right where left <= right, reverse the nodes of the list from position left to position right, and return the reversed list.\n",
    "\n",
    "#### Example 1:\n",
    "- Input: head = [1,2,3,4,5], left = 2, right = 4\n",
    "- Output: [1,4,3,2,5]\n",
    "\n",
    "URL: https://leetcode.com/problems/reverse-linked-list-ii/"
   ]
  },
  {
   "cell_type": "code",
   "execution_count": 13,
   "metadata": {},
   "outputs": [
    {
     "name": "stdout",
     "output_type": "stream",
     "text": [
      "5 -> 4 -> 3 -> 2 -> 1 -> \n",
      "5 -> \n"
     ]
    }
   ],
   "source": [
    "# I used a dummy node which saved me time with the pointer but \n",
    "# regardless the function down below is way better. \n",
    "def reverseBetweenBruteForce(head: Optional[ListNode], left: int, right: int) -> Optional[ListNode]:\n",
    "    head = ListNode(0, head) \n",
    "    current = head \n",
    "    p1 = 0\n",
    "    prev_tracker = None \n",
    "    while (current):\n",
    "        if (p1 == left):            \n",
    "            prev_tracker.next = None \n",
    "            prev = None \n",
    "            temp_current = current\n",
    "            tail = current\n",
    "            # Reverse the Linked List between Left and Right Positions \n",
    "            while (p1 <= right):\n",
    "                next = temp_current.next \n",
    "                temp_current.next = prev\n",
    "                prev = temp_current\n",
    "                temp_current = next \n",
    "                p1 += 1  \n",
    "            tail.next = next \n",
    "            prev_tracker.next = prev \n",
    "            current = tail \n",
    "        p1 = p1 + 1\n",
    "        prev_tracker = current\n",
    "        current = current.next \n",
    "    return head.next \n",
    "\n",
    "def reverseBetween(head: Optional[ListNode], left: int, right: int) -> Optional[ListNode]:\n",
    "    current = head \n",
    "    p1 = 1\n",
    "    prev_tracker = None \n",
    "    while (current):\n",
    "        if (p1 == left):             \n",
    "            prev = None \n",
    "            temp_current = current\n",
    "            tail = current\n",
    "            # Reverse the Linked List between Left and Right Positions \n",
    "            while (p1 <= right):\n",
    "                next = temp_current.next \n",
    "                temp_current.next = prev\n",
    "                prev = temp_current\n",
    "                temp_current = next \n",
    "                p1 += 1  \n",
    "            tail.next = next \n",
    "            if (prev_tracker):\n",
    "                prev_tracker.next = prev\n",
    "            else:\n",
    "                prev_tracker = prev \n",
    "                head = prev_tracker\n",
    "            current = tail \n",
    "        p1 = p1 + 1\n",
    "        prev_tracker = current\n",
    "        current = current.next \n",
    "    return head \n",
    "\n",
    "head = create_linked_list([1,2,3,4,5])\n",
    "result = reverseBetween(head, 1, 5) \n",
    "print_linked_list(result)\n",
    "\n",
    "head = create_linked_list([5])\n",
    "result = reverseBetween(head, 1, 1) \n",
    "print_linked_list(result)"
   ]
  }
 ],
 "metadata": {
  "kernelspec": {
   "display_name": "Python 3",
   "language": "python",
   "name": "python3"
  },
  "language_info": {
   "codemirror_mode": {
    "name": "ipython",
    "version": 3
   },
   "file_extension": ".py",
   "mimetype": "text/x-python",
   "name": "python",
   "nbconvert_exporter": "python",
   "pygments_lexer": "ipython3",
   "version": "3.12.2"
  }
 },
 "nbformat": 4,
 "nbformat_minor": 2
}
