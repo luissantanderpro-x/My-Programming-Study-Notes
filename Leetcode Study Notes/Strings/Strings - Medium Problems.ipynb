{
 "cells": [
  {
   "cell_type": "markdown",
   "metadata": {},
   "source": [
    "## Strings - Medium Problem Sets"
   ]
  },
  {
   "cell_type": "markdown",
   "metadata": {},
   "source": [
    "#### 3. Longest Substring Without Repeating Characters\n",
    "Solved\n",
    "Medium\n",
    "Topics\n",
    "Companies\n",
    "Hint\n",
    "Given a string s, find the length of the longest \n",
    "substring\n",
    " without repeating characters.\n",
    "\n",
    "#### Example 1:\n",
    "\n",
    "Input: s = \"abcabcbb\"\n",
    "Output: 3\n",
    "Explanation: The answer is \"abc\", with the length of 3.\n",
    "#### Example 2:\n",
    "\n",
    "Input: s = \"bbbbb\"\n",
    "Output: 1\n",
    "Explanation: The answer is \"b\", with the length of 1.\n",
    "#### Example 3:\n",
    "\n",
    "Input: s = \"pwwkew\"\n",
    "Output: 3\n",
    "Explanation: The answer is \"wke\", with the length of 3.\n",
    "Notice that the answer must be a substring, \"pwke\" is a subsequence and not a substring.\n",
    " \n",
    "\n",
    "#### Constraints:\n",
    "\n",
    "0 <= s.length <= 5 * 104\n",
    "s consists of English letters, digits, symbols and spaces.\n",
    "\n",
    "### View Notes \n",
    "\n",
    "[View PDF](notes/Strings%20-%203.pdf)\n"
   ]
  },
  {
   "cell_type": "code",
   "execution_count": 11,
   "metadata": {},
   "outputs": [
    {
     "data": {
      "text/plain": [
       "3"
      ]
     },
     "execution_count": 11,
     "metadata": {},
     "output_type": "execute_result"
    }
   ],
   "source": [
    "from typing import List \n",
    "\n",
    "# Brute Force is getting all substrings and then counting them which \n",
    "# is something I did not do at all so I prompted ChatGPT to give me the O(n3) worst. \n",
    "def length_of_longest_substring(s: str) -> int:\n",
    "    n = len(s)\n",
    "    max_length = 0\n",
    "\n",
    "    for i in range(n):\n",
    "        for j in range(i, n):\n",
    "            substring = s[i:j+1]  # Extract substring\n",
    "            if len(set(substring)) == len(substring):  # Check uniqueness\n",
    "                max_length = max(max_length, len(substring))\n",
    "    \n",
    "    return max_length\n",
    "\n",
    "# Optimal Solution which I did \n",
    "def lengthOfLongestSubstring(s: str) -> int: \n",
    "    if (s == \"\"): return 0 \n",
    "\n",
    "    p1 = 0 \n",
    "    p2 = p1 + 1 \n",
    "    max_substring_count = 1\n",
    "    check_repeat = set([s[0]])\n",
    "\n",
    "    while (p2 < len(s)):\n",
    "        if (s[p2] not in check_repeat):\n",
    "            check_repeat.add(s[p2])\n",
    "            p2 = p2 + 1 \n",
    "        else:\n",
    "            check_repeat.remove(s[p1])\n",
    "            p1 = p1 + 1 \n",
    "        if (p2 - p1 > max_substring_count):\n",
    "            max_substring_count = p2 - p1\n",
    "            \n",
    "    return max_substring_count \n",
    "\n",
    "\n",
    "s = \"abcabcbb\"\n",
    "lengthOfLongestSubstring(s) "
   ]
  }
 ],
 "metadata": {
  "kernelspec": {
   "display_name": "Python 3",
   "language": "python",
   "name": "python3"
  },
  "language_info": {
   "codemirror_mode": {
    "name": "ipython",
    "version": 3
   },
   "file_extension": ".py",
   "mimetype": "text/x-python",
   "name": "python",
   "nbconvert_exporter": "python",
   "pygments_lexer": "ipython3",
   "version": "3.12.2"
  }
 },
 "nbformat": 4,
 "nbformat_minor": 2
}
