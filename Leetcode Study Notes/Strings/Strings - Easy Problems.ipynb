{
 "cells": [
  {
   "cell_type": "markdown",
   "metadata": {},
   "source": [
    "## Strings - Easy Problem Sets"
   ]
  },
  {
   "cell_type": "markdown",
   "metadata": {},
   "source": []
  },
  {
   "cell_type": "markdown",
   "metadata": {},
   "source": [
    "844. Backspace String Compare\n",
    "Solved\n",
    "Easy\n",
    "Topics\n",
    "Companies\n",
    "Given two strings s and t, return true if they are equal when both are typed into empty text editors. '#' means a backspace character.\n",
    "\n",
    "Note that after backspacing an empty text, the text will continue empty.\n",
    "\n",
    "#### Example 1:\n",
    "\n",
    "Input: s = \"ab#c\", t = \"ad#c\"\n",
    "Output: true\n",
    "Explanation: Both s and t become \"ac\".\n",
    "#### Example 2:\n",
    "\n",
    "Input: s = \"ab##\", t = \"c#d#\"\n",
    "Output: true\n",
    "Explanation: Both s and t become \"\".\n",
    "Example 3:\n",
    "\n",
    "Input: s = \"a#c\", t = \"b\"\n",
    "Output: false\n",
    "Explanation: s becomes \"c\" while t becomes \"b\".\n",
    " \n",
    "\n",
    "Constraints:\n",
    "\n",
    "1 <= s.length, t.length <= 200\n",
    "s and t only contain lowercase letters and '#' characters."
   ]
  },
  {
   "cell_type": "code",
   "execution_count": 11,
   "metadata": {},
   "outputs": [
    {
     "data": {
      "text/plain": [
       "False"
      ]
     },
     "execution_count": 11,
     "metadata": {},
     "output_type": "execute_result"
    }
   ],
   "source": [
    "from typing import List\n",
    "\n",
    "def backspaceCompare(s: str, t: str) -> bool:\n",
    "    p1 = len(s) - 1\n",
    "    counter = 0\n",
    "    s_str = \"\" \n",
    "    t_str = \"\" \n",
    "\n",
    "    while (p1 >= 0):\n",
    "        if (s[p1] == \"#\"):\n",
    "            counter += 1 \n",
    "        elif (counter > 0):\n",
    "            counter -= 1 \n",
    "        else:\n",
    "            s_str += s[p1]\n",
    "        p1 -= 1 \n",
    "    \n",
    "    p1 = len(t) - 1 \n",
    "    counter = 0 \n",
    "    while (p1 >= 0):\n",
    "        if (t[p1] == \"#\"):\n",
    "            counter += 1 \n",
    "        elif (counter > 0):\n",
    "            counter -= 1 \n",
    "        else:\n",
    "            t_str += t[p1]\n",
    "        p1 -= 1\n",
    "\n",
    "    return s_str == t_str \n",
    "\n",
    "\n",
    "s1 = \"a#c\"\n",
    "t1 = \"b\"\n",
    "backspaceCompare(s1, t1)\n"
   ]
  },
  {
   "cell_type": "markdown",
   "metadata": {},
   "source": [
    "### 125. Valid Palindrome\n",
    "\n",
    "A phrase is a palindrome if, after converting all uppercase letters into lowercase letters and removing all non-alphanumeric characters, it reads the same forward and backward. Alphanumeric characters include letters and numbers.\n",
    "\n",
    "Given a string s, return true if it is a palindrome, or false otherwise.\n",
    "\n",
    " \n",
    "\n",
    "Example 1:\n",
    "\n",
    "Input: s = \"A man, a plan, a canal: Panama\"\n",
    "Output: true\n",
    "Explanation: \"amanaplanacanalpanama\" is a palindrome.\n",
    "Example 2:\n",
    "\n",
    "Input: s = \"race a car\"\n",
    "Output: false\n",
    "Explanation: \"raceacar\" is not a palindrome.\n",
    "Example 3:\n",
    "\n",
    "Input: s = \" \"\n",
    "Output: true\n",
    "Explanation: s is an empty string \"\" after removing non-alphanumeric characters.\n",
    "Since an empty string reads the same forward and backward, it is a palindrome.\n",
    " \n",
    "\n",
    "Constraints:\n",
    "\n",
    "1 <= s.length <= 2 * 105\n",
    "s consists only of printable ASCII characters.\n",
    "\n",
    "URL: https://leetcode.com/problems/valid-palindrome/description/\n"
   ]
  },
  {
   "cell_type": "code",
   "execution_count": 20,
   "metadata": {},
   "outputs": [
    {
     "data": {
      "text/plain": [
       "True"
      ]
     },
     "execution_count": 20,
     "metadata": {},
     "output_type": "execute_result"
    }
   ],
   "source": [
    "def isPalindrome1(s: str) -> bool:\n",
    "    s = s.lower() \n",
    "    new_str = [] \n",
    "    for c in s: \n",
    "        if (c.isalnum()):\n",
    "            new_str.append(c)\n",
    "    s = \"\"\n",
    "    s = s.join(new_str) \n",
    "    return s == s[::-1]\n",
    "    \n",
    "s1 = \"A man, a plan, a canal: Panama\"\n",
    "isPalindrome1(s1)"
   ]
  },
  {
   "cell_type": "markdown",
   "metadata": {},
   "source": [
    "#### 1941. Check if All Characters Have Equal Number of Occurrences.\n",
    "\n",
    "Given a string s, return true if s is a good string, or false otherwise.\n",
    "\n",
    "A string s is good if all the characters that appear in s have the same number of occurrences (i.e., the same frequency).\n",
    "\n",
    " \n",
    "\n",
    "### Example 1:\n",
    "\n",
    "Input: s = \"abacbc\"\n",
    "Output: true\n",
    "Explanation: The characters that appear in s are 'a', 'b', and 'c'. All characters occur 2 times in s.\n",
    "Example 2:\n",
    "\n",
    "Input: s = \"aaabb\"\n",
    "Output: false\n",
    "Explanation: The characters that appear in s are 'a' and 'b'.\n",
    "'a' occurs 3 times while 'b' occurs\n",
    "\n",
    "URL: https://leetcode.com/problems/check-if-all-characters-have-equal-number-of-occurrences/description/?envType=problem-list-v2&envId=string"
   ]
  },
  {
   "cell_type": "code",
   "execution_count": 58,
   "metadata": {},
   "outputs": [
    {
     "name": "stdout",
     "output_type": "stream",
     "text": [
      "True\n"
     ]
    }
   ],
   "source": [
    "def areOccurrencesEqual(s: str) -> bool: \n",
    "    table = [0 for _ in range(26)]\n",
    "    equality = 1\n",
    "    for c in s: \n",
    "        index = ord(c) - 97\n",
    "        table[index] = table[index] + 1\n",
    "        if (table[index] > equality):   \n",
    "            equality = table[index]\n",
    "    for val in table: \n",
    "        if (val != 0 and val != equality):\n",
    "            return False \n",
    "    return True \n",
    "\n",
    "s = \"aabbab\"\n",
    "print(areOccurrencesEqual(s))\n"
   ]
  },
  {
   "cell_type": "markdown",
   "metadata": {},
   "source": [
    "#### 28. Find the Index of the First Occurrence in a String\n",
    "\n",
    "Given two strings needle and haystack, return the index of the first occurrence of needle in haystack, or -1 if needle is not part of haystack.\n",
    "\n",
    "#### Example 1:\n",
    "\n",
    "Input: haystack = \"sadbutsad\", needle = \"sad\"\n",
    "Output: 0\n",
    "Explanation: \"sad\" occurs at index 0 and 6.\n",
    "The first occurrence is at index 0, so we return 0.\n",
    "Example 2:\n",
    "\n",
    "Input: haystack = \"leetcode\", needle = \"leeto\"\n",
    "Output: -1\n",
    "Explanation: \"leeto\" did not occur in \"leetcode\", so we return -1.\n",
    " \n",
    "\n",
    "##### Constraints:\n",
    "\n",
    "- 1 <= haystack.length, needle.length <= 104\n",
    "- haystack and needle consist of only lowercase English characters.\n",
    "\n",
    "# Algorithms to Consider for Optimization \n",
    "\n",
    "Yes! You can solve the strStr (substring search) problem in O(n) time using advanced string matching algorithms like:\n",
    "\n",
    "1. Knuth-Morris-Pratt (KMP) Algorithm → O(n + m)\n",
    "2. Rabin-Karp Algorithm (with rolling hash) → O(n) expected, O(nm) worst case (with a good hash function)\n",
    "3. Boyer-Moore Algorithm → O(n) best case, O(nm) worst case"
   ]
  },
  {
   "cell_type": "code",
   "execution_count": 108,
   "metadata": {},
   "outputs": [
    {
     "name": "stdout",
     "output_type": "stream",
     "text": [
      "4\n"
     ]
    }
   ],
   "source": [
    "# Brute Force \n",
    "# Why because concatenation in python is immutable \n",
    "# which means that it is an expensive operation \n",
    "def strStrBruteForce(haystack: str, needle: str) -> int: \n",
    "    p1 = 0 \n",
    "    p2 = 0 \n",
    "    while (p1 + len(needle) - 1 < len(haystack)):\n",
    "        p2 = p1 + 1 \n",
    "        if (haystack[p1] == needle[0]): \n",
    "            substr = \"\" + haystack[p1]  \n",
    "            i = 0 \n",
    "            while (i < len(needle) - 1):\n",
    "                substr += haystack[p2 + i]\n",
    "                i += 1 \n",
    "            if (substr == needle):\n",
    "                return p1 \n",
    "            p1 = p2 \n",
    "        else: \n",
    "            p1 += 1\n",
    "    return -1 \n",
    "\n",
    "# Techniques that can be used to optimize this problem even further is to learn the Rabin-Karp Algorithm uses \n",
    "# hashing techniques but can have a worst case of O(n*m) due to the nature of hash collisions \n",
    "\n",
    "# Knuth-Morris-Pratt (KMP) Algorithm O(n + m) is the best because it pre processes the needle to avoid \n",
    "# collisions \n",
    "haystack = \"aabaaabaaac\"\n",
    "needle = \"aabaaac\"\n",
    "print(strStrBruteForce(haystack, needle))\n"
   ]
  }
 ],
 "metadata": {
  "kernelspec": {
   "display_name": "Python 3",
   "language": "python",
   "name": "python3"
  },
  "language_info": {
   "codemirror_mode": {
    "name": "ipython",
    "version": 3
   },
   "file_extension": ".py",
   "mimetype": "text/x-python",
   "name": "python",
   "nbconvert_exporter": "python",
   "pygments_lexer": "ipython3",
   "version": "3.12.2"
  }
 },
 "nbformat": 4,
 "nbformat_minor": 2
}
