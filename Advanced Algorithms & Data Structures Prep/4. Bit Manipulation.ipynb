{
 "cells": [
  {
   "cell_type": "markdown",
   "metadata": {},
   "source": [
    "### Binary Numbers\n",
    " \n",
    "- computers understand binary values **(0 and 1)** exclusively - all the data it receives are encoded at the lowest level to a series of zeros and ones. \n",
    "\n",
    "Ex 1:\n",
    "1 1 0 1 1 \n",
    "\n",
    "1 x 2^4 + 1 x 2^3 + 0 x 2^2 + 1 x 2^1 + 1 x 2^0\n",
    "\n",
    "if we have **N** bits then we can represent **2^N** numbers.\n",
    "\n",
    "- Java = **32** bit long floats we can represent **2^32** possible real numbers.\n",
    "- Python = **2^64**"
   ]
  },
  {
   "cell_type": "markdown",
   "metadata": {},
   "source": [
    "### Binary Operations\n",
    "\n",
    "<img src='./imgs/bit1.png' style='width:600px; height:200px;'>"
   ]
  },
  {
   "cell_type": "markdown",
   "metadata": {},
   "source": []
  },
  {
   "cell_type": "code",
   "execution_count": 9,
   "metadata": {},
   "outputs": [
    {
     "name": "stdout",
     "output_type": "stream",
     "text": [
      "31\n",
      "20\n",
      "11\n"
     ]
    }
   ],
   "source": [
    "print(27 | 15) # OR \n",
    "print(27 ^ 15) # XOR\n",
    "print(27 & 15) # AND "
   ]
  },
  {
   "cell_type": "markdown",
   "metadata": {},
   "source": [
    "### Binary Shift Operations \n",
    "\n",
    "1 1 0 1 1 \n",
    "\n",
    "- the << **left shift operator** shifts every single bit to the left (**0** is added to the end) it increments the value seems like it doubles the value. 5 << 1 = 10 and 10 << 1  = 20\n",
    "\n",
    "\n",
    "- the >> **right shift operator** shifts every single bit to the right and decrements the value (**0** is added the beginning)"
   ]
  },
  {
   "cell_type": "code",
   "execution_count": 25,
   "metadata": {},
   "outputs": [
    {
     "name": "stdout",
     "output_type": "stream",
     "text": [
      "5 101\n",
      "10 1010\n",
      "5 101\n"
     ]
    }
   ],
   "source": [
    "def int_to_binary_string(n):\n",
    "    if n == 0:\n",
    "        return \"0\"\n",
    "    elif n < 0:\n",
    "        return \"-\" + bin(n)[3:]  # Strip the '-0b' prefix for negative numbers\n",
    "    else:\n",
    "        return bin(n)[2:]  # Strip the '0b' prefix for positive numbers\n",
    "\n",
    "amount_to_shift = 1\n",
    "number = 5\n",
    "\n",
    "print(number, int_to_binary_string(number))\n",
    "number = number << amount_to_shift\n",
    "print(number, int_to_binary_string(number))\n",
    "\n",
    "number = number >> amount_to_shift\n",
    "print(number, int_to_binary_string(number))"
   ]
  }
 ],
 "metadata": {
  "kernelspec": {
   "display_name": "Python 3",
   "language": "python",
   "name": "python3"
  },
  "language_info": {
   "codemirror_mode": {
    "name": "ipython",
    "version": 3
   },
   "file_extension": ".py",
   "mimetype": "text/x-python",
   "name": "python",
   "nbconvert_exporter": "python",
   "pygments_lexer": "ipython3",
   "version": "3.12.2"
  }
 },
 "nbformat": 4,
 "nbformat_minor": 2
}
