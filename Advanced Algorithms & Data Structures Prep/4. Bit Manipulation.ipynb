{
 "cells": [
  {
   "cell_type": "markdown",
   "metadata": {},
   "source": [
    "### Binary Numbers\n",
    " \n",
    "- computers understand binary values **(0 and 1)** exclusively - all the data it receives are encoded at the lowest level to a series of zeros and ones. \n",
    "\n",
    "Ex 1:\n",
    "1 1 0 1 1 \n",
    "\n",
    "1 x 2^4 + 1 x 2^3 + 0 x 2^2 + 1 x 2^1 + 1 x 2^0\n",
    "\n",
    "if we have **N** bits then we can represent **2^N** numbers.\n",
    "\n",
    "- Java = **32** bit long floats we can represent **2^32** possible real numbers.\n",
    "- Python = **2^64**"
   ]
  },
  {
   "cell_type": "markdown",
   "metadata": {},
   "source": [
    "### Binary Operations\n",
    "\n",
    "<img src='./imgs/bit1.png' style='width:600px; height:200px;'>"
   ]
  },
  {
   "cell_type": "markdown",
   "metadata": {},
   "source": []
  },
  {
   "cell_type": "code",
   "execution_count": 9,
   "metadata": {},
   "outputs": [
    {
     "name": "stdout",
     "output_type": "stream",
     "text": [
      "31\n",
      "20\n",
      "11\n"
     ]
    }
   ],
   "source": [
    "print(27 | 15) # OR \n",
    "print(27 ^ 15) # XOR\n",
    "print(27 & 15) # AND "
   ]
  },
  {
   "cell_type": "markdown",
   "metadata": {},
   "source": [
    "### Binary Shift Operations \n",
    "\n",
    "1 1 0 1 1 \n",
    "\n",
    "- the << **left shift operator** shifts every single bit to the left (**0** is added to the end) it increments the value seems like it doubles the value. 5 << 1 = 10 and 10 << 1  = 20\n",
    "\n",
    "\n",
    "- the >> **right shift operator** shifts every single bit to the right and decrements the value (**0** is added the beginning)"
   ]
  },
  {
   "cell_type": "code",
   "execution_count": 25,
   "metadata": {},
   "outputs": [
    {
     "name": "stdout",
     "output_type": "stream",
     "text": [
      "5 101\n",
      "10 1010\n",
      "5 101\n"
     ]
    }
   ],
   "source": [
    "def int_to_binary_string(n):\n",
    "    if n == 0:\n",
    "        return \"0\"\n",
    "    elif n < 0:\n",
    "        return \"-\" + bin(n)[3:]  # Strip the '-0b' prefix for negative numbers\n",
    "    else:\n",
    "        return bin(n)[2:]  # Strip the '0b' prefix for positive numbers\n",
    "\n",
    "amount_to_shift = 1\n",
    "number = 5\n",
    "\n",
    "print(number, int_to_binary_string(number))\n",
    "number = number << amount_to_shift\n",
    "print(number, int_to_binary_string(number))\n",
    "\n",
    "number = number >> amount_to_shift\n",
    "print(number, int_to_binary_string(number))"
   ]
  },
  {
   "cell_type": "markdown",
   "metadata": {},
   "source": [
    "### Finding The Bit Length"
   ]
  },
  {
   "cell_type": "code",
   "execution_count": 12,
   "metadata": {},
   "outputs": [
    {
     "name": "stdout",
     "output_type": "stream",
     "text": [
      "10000\n",
      "16\n",
      "8\n",
      "4\n",
      "2\n",
      "1\n",
      "5\n",
      "4.25\n"
     ]
    }
   ],
   "source": [
    "# Operation has O(log(n)) time complexity\n",
    "def count_bits(n: int) -> int: \n",
    "    counter = 0 \n",
    "\n",
    "    while n > 0:\n",
    "        print(n)\n",
    "        counter += 1 \n",
    "        # Left-Shift: Doubles the original value\n",
    "        # Right-Shift: divides the original value by 2 \n",
    "        n = n >> 1 \n",
    "\n",
    "    return counter \n",
    "\n",
    "n = 16\n",
    "print(bin(n)[2:])\n",
    "print(count_bits(n))\n",
    "\n"
   ]
  },
  {
   "cell_type": "markdown",
   "metadata": {},
   "source": [
    "### Break a decimal into it's whole number and decimal Function "
   ]
  },
  {
   "cell_type": "code",
   "execution_count": 27,
   "metadata": {},
   "outputs": [
    {
     "data": {
      "text/plain": [
       "100.25"
      ]
     },
     "execution_count": 27,
     "metadata": {},
     "output_type": "execute_result"
    }
   ],
   "source": [
    "from typing import List \n",
    "\n",
    "def break_decimal(n: int) -> List[int]:\n",
    "    amounts = (str(n)).split('.') \n",
    "    dollar = int(amounts[0]) \n",
    "    cents = int(amounts[1])\n",
    "    return [dollar, cents]\n",
    "\n",
    "def convert_to_pennies(amounts: List[int]) -> int: \n",
    "    return (amounts[0] * 100) + amounts[1]\n",
    "\n",
    "def convert_pennies_to_decimal_amount(pennies: int) -> int: \n",
    "    return pennies / 100 \n",
    "\n",
    "decimal_amount = 100.25\n",
    "pennies = convert_to_pennies(break_decimal(decimal_amount))\n",
    "convert_pennies_to_decimal_amount(pennies)"
   ]
  },
  {
   "cell_type": "markdown",
   "metadata": {},
   "source": [
    "### Checking Even and Odd Numbers (Modulo Operator)"
   ]
  },
  {
   "cell_type": "code",
   "execution_count": 34,
   "metadata": {},
   "outputs": [],
   "source": [
    "def even_odd(n: int) -> bool: \n",
    "    return n % 2 == 0 \n",
    "\n",
    "# Binary Operations \n",
    "# XOR operator increments by 1 the value of the even number \n",
    "# decrements the value for odd numbers by 1 \n",
    "def is_even(n: int) -> bool:\n",
    "    if n ^ 1 == n + 1: \n",
    "        return True \n",
    "    return False \n"
   ]
  },
  {
   "cell_type": "markdown",
   "metadata": {},
   "source": [
    "### Russian Peasant Problem "
   ]
  }
 ],
 "metadata": {
  "kernelspec": {
   "display_name": "Python 3",
   "language": "python",
   "name": "python3"
  },
  "language_info": {
   "codemirror_mode": {
    "name": "ipython",
    "version": 3
   },
   "file_extension": ".py",
   "mimetype": "text/x-python",
   "name": "python",
   "nbconvert_exporter": "python",
   "pygments_lexer": "ipython3",
   "version": "3.12.2"
  }
 },
 "nbformat": 4,
 "nbformat_minor": 2
}
