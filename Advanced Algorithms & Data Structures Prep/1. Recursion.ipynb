{
 "cells": [
  {
   "cell_type": "markdown",
   "metadata": {},
   "source": [
    "### Recursion\n",
    "\n",
    "Stack Memory \n",
    "\n",
    "<img src='./imgs/recursion1.jpg' style='width:500px; height:600px;'>\n",
    "\n",
    "Heap Memory\n",
    "\n",
    "- heap memory is a special region in the RAM where dynamic memory allocation takes place.\n",
    "\n",
    "- the size of the heap is way larger than the size of the stack memory.\n",
    "\n",
    "- objects (referenc types) are stored in the heap memory.\n",
    "\n",
    "- it is large in size but slow to access.\n",
    "\n",
    "- FRAGMENTATION!!!\n",
    "\n",
    "In the C Language\n",
    "\n",
    "----------------\n",
    "// allocate memory dynamically\n",
    "- description = malloc(200 * sizeof(char)); \n",
    "\n",
    "// suppose you want to store bigger description \n",
    "- description = realloc(description, 100 * sizeof(char));\n"
   ]
  },
  {
   "cell_type": "markdown",
   "metadata": {},
   "source": [
    "### Memory Management \n",
    "\n",
    "- there are 2 main types of memory: stack memory and heap memory.\n",
    "- the stack memory is a special region in the RAM.\n",
    "- this is a special data type (stack) that store the active functions and local variables as well.\n",
    "- this is how Python knows where to return after finish execution of a given function. \n",
    "\n",
    "### How Function Calls work in memory. \n",
    "\n",
    "<img src='./imgs/recursion2.jpg' style='width:500px; height:600px;'>"
   ]
  },
  {
   "cell_type": "markdown",
   "metadata": {},
   "source": []
  },
  {
   "cell_type": "markdown",
   "metadata": {},
   "source": [
    "### What is Recursion?\n",
    "\n",
    "- recursion is a method where the solution to a problem depends on solution to smaller instances of the same problem.\n",
    "- so we break the tasks into smaller and smaller subtasks. \n",
    "- think russian dolls. \n",
    "- this approach can be applied to several types of problems - this is why recursion is in the center of computer science.\n",
    "- we have to define base-cases to avoid infinite loops.\n",
    "- every problem can be solved either with iteration or with recursion.\n",
    "\n",
    "\n",
    "Every problem can be solved with iteration (this is preferred) or with recursion. Let's assume that we want to calculate the sum of the first N Integers. "
   ]
  },
  {
   "cell_type": "code",
   "execution_count": 2,
   "metadata": {},
   "outputs": [
    {
     "name": "stdout",
     "output_type": "stream",
     "text": [
      "5 15\n",
      "5 15\n"
     ]
    }
   ],
   "source": [
    "n = 5 \n",
    "\n",
    "def sum_values(n: int) -> int: \n",
    "    result = 0 \n",
    "\n",
    "    for num in range(n+1):\n",
    "        result += num \n",
    "    \n",
    "    return result \n",
    "\n",
    "print(n, sum_values(n))\n",
    "\n",
    "def sum_values_recursively(n: int) -> int: \n",
    "    # Base Case \n",
    "    if (n == 0):\n",
    "        return 0 \n",
    "    \n",
    "    return n + sum_values(n - 1) \n",
    "\n",
    "\n",
    "print(n, sum_values_recursively(n))"
   ]
  },
  {
   "cell_type": "markdown",
   "metadata": {},
   "source": [
    "#### Tail Recursion \n",
    "\n",
    "- if the recursive function call occurs at the end of the function then it is called tail recursion. \n",
    "- tail recursion is similar to a loop (for loop or while loop) \n",
    "- this method executes all the statements before jumping to the next recursive call. \n",
    "\n",
    "#### Head Recursion \n",
    "\n",
    "- if the recursive function call occurs at the beginning of the function then it is called head recursion. \n",
    "- this approach saves the state of the function call before jumping into the next recursive call.\n",
    "- it means that head recursion needs more memory because of the states it stores. "
   ]
  },
  {
   "cell_type": "markdown",
   "metadata": {},
   "source": []
  },
  {
   "cell_type": "code",
   "execution_count": 6,
   "metadata": {},
   "outputs": [
    {
     "name": "stdout",
     "output_type": "stream",
     "text": [
      "tail recursion\n",
      "5\n",
      "4\n",
      "3\n",
      "2\n",
      "head recursion\n",
      "2\n",
      "3\n",
      "4\n",
      "5\n"
     ]
    }
   ],
   "source": [
    "# Tail Recursion \n",
    "\n",
    "def tail(n: int) -> None: \n",
    "    if (n == 1):\n",
    "        return \n",
    "\n",
    "    # do something \n",
    "    print(n)\n",
    "\n",
    "    # recursive call\n",
    "    tail(n - 1) \n",
    "\n",
    "# Head Recursion \n",
    "\n",
    "def head(n: int) -> None: \n",
    "    if (n == 1):\n",
    "        return \n",
    "\n",
    "    # recursive call \n",
    "    head(n - 1) \n",
    "\n",
    "    # do something \n",
    "    print(n) \n",
    "\n",
    "print('tail recursion')\n",
    "tail(5)\n",
    "print('head recursion')\n",
    "head(5)"
   ]
  },
  {
   "cell_type": "code",
   "execution_count": null,
   "metadata": {},
   "outputs": [],
   "source": []
  }
 ],
 "metadata": {
  "kernelspec": {
   "display_name": "Python 3",
   "language": "python",
   "name": "python3"
  },
  "language_info": {
   "codemirror_mode": {
    "name": "ipython",
    "version": 3
   },
   "file_extension": ".py",
   "mimetype": "text/x-python",
   "name": "python",
   "nbconvert_exporter": "python",
   "pygments_lexer": "ipython3",
   "version": "3.12.2"
  }
 },
 "nbformat": 4,
 "nbformat_minor": 2
}
