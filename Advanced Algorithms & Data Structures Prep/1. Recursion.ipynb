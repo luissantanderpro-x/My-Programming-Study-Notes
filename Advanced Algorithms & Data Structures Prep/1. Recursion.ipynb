{
 "cells": [
  {
   "cell_type": "markdown",
   "metadata": {},
   "source": [
    "### Recursion\n",
    "\n",
    "Stack Memory \n",
    "\n",
    "<img src='./imgs/recursion1.jpg' style='width:500px; height:600px;'>\n",
    "\n",
    "Heap Memory\n",
    "\n",
    "- heap memory is a special region in the RAM where dynamic memory allocation takes place.\n",
    "\n",
    "- the size of the heap is way larger than the size of the stack memory.\n",
    "\n",
    "- objects (referenc types) are stored in the heap memory.\n",
    "\n",
    "- it is large in size but slow to access.\n",
    "\n",
    "- FRAGMENTATION!!!\n",
    "\n",
    "In the C Language\n",
    "\n",
    "----------------\n",
    "// allocate memory dynamically\n",
    "- description = malloc(200 * sizeof(char)); \n",
    "\n",
    "// suppose you want to store bigger description \n",
    "- description = realloc(description, 100 * sizeof(char));\n"
   ]
  },
  {
   "cell_type": "markdown",
   "metadata": {},
   "source": [
    "### Memory Management \n",
    "\n",
    "- there are 2 main types of memory: stack memory and heap memory.\n",
    "- the stack memory is a special region in the RAM.\n",
    "- this is a special data type (stack) that store the active functions and local variables as well.\n",
    "- this is how Python knows where to return after finish execution of a given function. \n",
    "\n",
    "### How Function Calls work in memory. \n",
    "\n",
    "<img src='./imgs/recursion2.jpg' style='width:500px; height:600px;'>"
   ]
  },
  {
   "cell_type": "markdown",
   "metadata": {},
   "source": []
  },
  {
   "cell_type": "markdown",
   "metadata": {},
   "source": [
    "### What is Recursion?\n",
    "\n",
    "- recursion is a method where the solution to a problem depends on solution to smaller instances of the same problem.\n",
    "- so we break the tasks into smaller and smaller subtasks. \n",
    "- think russian dolls. \n",
    "- this approach can be applied to several types of problems - this is why recursion is in the center of computer science.\n",
    "- we have to define base-cases to avoid infinite loops.\n",
    "- every problem can be solved either with iteration or with recursion.\n",
    "\n",
    "\n",
    "Every problem can be solved with iteration (this is preferred) or with recursion. Let's assume that we want to calculate the sum of the first N Integers. "
   ]
  },
  {
   "cell_type": "code",
   "execution_count": 2,
   "metadata": {},
   "outputs": [
    {
     "name": "stdout",
     "output_type": "stream",
     "text": [
      "5 15\n",
      "5 15\n"
     ]
    }
   ],
   "source": [
    "n = 5 \n",
    "\n",
    "def sum_values(n: int) -> int: \n",
    "    result = 0 \n",
    "\n",
    "    for num in range(n+1):\n",
    "        result += num \n",
    "    \n",
    "    return result \n",
    "\n",
    "print(n, sum_values(n))\n",
    "\n",
    "def sum_values_recursively(n: int) -> int: \n",
    "    # Base Case \n",
    "    if (n == 0):\n",
    "        return 0 \n",
    "    \n",
    "    return n + sum_values(n - 1) \n",
    "\n",
    "\n",
    "print(n, sum_values_recursively(n))"
   ]
  },
  {
   "cell_type": "markdown",
   "metadata": {},
   "source": [
    "#### Tail Recursion \n",
    "\n",
    "- if the recursive function call occurs at the end of the function then it is called tail recursion. \n",
    "- tail recursion is similar to a loop (for loop or while loop) \n",
    "- this method executes all the statements before jumping to the next recursive call. \n",
    "\n",
    "#### Head Recursion \n",
    "\n",
    "- if the recursive function call occurs at the beginning of the function then it is called head recursion. \n",
    "- this approach saves the state of the function call before jumping into the next recursive call.\n",
    "- it means that head recursion needs more memory because of the states it stores. "
   ]
  },
  {
   "cell_type": "markdown",
   "metadata": {},
   "source": []
  },
  {
   "cell_type": "code",
   "execution_count": 6,
   "metadata": {},
   "outputs": [
    {
     "name": "stdout",
     "output_type": "stream",
     "text": [
      "tail recursion\n",
      "5\n",
      "4\n",
      "3\n",
      "2\n",
      "head recursion\n",
      "2\n",
      "3\n",
      "4\n",
      "5\n"
     ]
    }
   ],
   "source": [
    "# Tail Recursion \n",
    "\n",
    "def tail(n: int) -> None: \n",
    "    if (n == 1):\n",
    "        return \n",
    "\n",
    "    # do something \n",
    "    print(n)\n",
    "\n",
    "    # recursive call\n",
    "    tail(n - 1) \n",
    "\n",
    "# Head Recursion \n",
    "\n",
    "def head(n: int) -> None: \n",
    "    if (n == 1):\n",
    "        return \n",
    "\n",
    "    # recursive call \n",
    "    head(n - 1) \n",
    "\n",
    "    # do something \n",
    "    print(n) \n",
    "\n",
    "print('tail recursion')\n",
    "tail(5)\n",
    "print('head recursion')\n",
    "head(5)"
   ]
  },
  {
   "cell_type": "markdown",
   "metadata": {},
   "source": [
    "### Recursion and stack memory (stack overflow) \n",
    "- so the function calls and values are stored on the stack memory. (In stack frames)\n",
    "- what is the difference between recursive and iterative implementation.\n",
    "- recursion is at least twice as slow as iteration - first we unfold recursive calls (push them on the stack) and after the base case we retrieved these stack frames one by one. \n",
    "\n",
    "#### what is the problem with head recursion? \n",
    "- the problem is that there may be too many recursive calls and stack frames on the stack and we end up with a stack overflow error. \n",
    "\n",
    "- we can optimize by using tail recursion instead. \n",
    "- tail recursion is very similar to standard iteration and for example the C++ compiler transforms tail recursion into iteration to avoid stack overflow. \n",
    "\n",
    "Recursion optimization in Python\n",
    "In the previous lecture we talked about the crucial differences between head recursion and tail recursion.\n",
    "\n",
    "tail recursion is very similar to iteration - and usually it is transformed into an iteration\n",
    "\n",
    "head recursion is a bit more complex because the function calls must be tracked - this is why these function calls are pushed onto the stack (call-stack)\n",
    "\n",
    "BUT PYTHON DOES NOT OPTIMIZE TAIL RECURSION !!!\n",
    "\n",
    "Current mainstream C++ compilers perform tail call optimization. But on the other hand, Python does not support tail recursion optimization.\n",
    "\n",
    "An important question is WHY IS IT POSSIBLE TO USE TAIL RECURSION OPTIMIZATION?\n",
    "\n",
    "Because there is a fundamental difference between head recursion and tail recursion.\n",
    "\n",
    "tail recursion related function calls (and the stack frames) do not depend on each other - there is no so-called \"downward dependence\" in the stack memory regarding the stack frames\n",
    "\n",
    "head recursion related function calls DO depend on each other - they use values returned from other function calls\n",
    "\n",
    "This is exactly why we can optimise tail recursion because the function calls and stack frames are totally independent of each other.\n",
    "\n",
    "### NOTE: PROBLEM WITH PYTHON VS LANGUAGES SUCH AS RUST OR C++. \n",
    "It doesn't optimize recursive calls into iterative ones if tail recursion is used. Causing slow downs. "
   ]
  },
  {
   "cell_type": "code",
   "execution_count": 9,
   "metadata": {},
   "outputs": [
    {
     "name": "stdout",
     "output_type": "stream",
     "text": [
      "using head recursion \n",
      "Before Recursion\n",
      "Before Recursion\n",
      "Before Recursion\n",
      "Before Recursion\n",
      "Base Case\n",
      "After recursion... 1\n",
      "After recursion... 2\n",
      "After recursion... 6\n",
      "After recursion... 24\n",
      "24\n",
      "using tail recursion with accumulator\n",
      "Before recursion 1\n",
      "Before recursion 4\n",
      "Before recursion 12\n",
      "Before recursion 24\n",
      "Base Case\n",
      "24\n"
     ]
    }
   ],
   "source": [
    "def factorial_unoptimized(n: int) -> int: \n",
    "    if (n == 0):\n",
    "        return 1 \n",
    "    return n * factorial(n - 1) \n",
    "\n",
    "def factorial_head(n: int) -> int: \n",
    "    if (n == 0):\n",
    "        print('Base Case') \n",
    "        return 1 \n",
    "\n",
    "    print('Before Recursion')\n",
    "    result1 = factorial_head(n - 1)\n",
    "\n",
    "    result2 = n * result1 \n",
    "\n",
    "    print('After recursion...', result2)\n",
    "\n",
    "    return result2 \n",
    "\n",
    "# We can optimize using an accumulator variable parameter. \n",
    "\n",
    "def factorial(n: int, acc=1) -> int: \n",
    "    if (n == 0):\n",
    "        print('Base Case')\n",
    "        return acc \n",
    "    \n",
    "    print('Before recursion', acc) \n",
    "    \n",
    "    return factorial(n - 1, n * acc) \n",
    "\n",
    "print('using head recursion ')\n",
    "print(factorial_head(4))\n",
    "print(\"using tail recursion with accumulator\")\n",
    "print(factorial(4))"
   ]
  },
  {
   "cell_type": "markdown",
   "metadata": {},
   "source": [
    "### Fibonacci Sequence Using Tail Recursion Accumulator "
   ]
  },
  {
   "cell_type": "code",
   "execution_count": 13,
   "metadata": {},
   "outputs": [
    {
     "data": {
      "text/plain": [
       "55"
      ]
     },
     "execution_count": 13,
     "metadata": {},
     "output_type": "execute_result"
    }
   ],
   "source": [
    "def fibonacci_tail(n,a=0,b=1):\n",
    "    # implement the algorithm here \n",
    "    if (n == 0): return a  \n",
    "    if (n == 1): return b\n",
    "        \n",
    "    return fibonacci_tail(n - 1, b, a + b) \n",
    "\n",
    "fibonacci_tail(10)"
   ]
  },
  {
   "cell_type": "markdown",
   "metadata": {},
   "source": [
    "### Reverse String Exercise"
   ]
  },
  {
   "cell_type": "code",
   "execution_count": 16,
   "metadata": {},
   "outputs": [
    {
     "name": "stdout",
     "output_type": "stream",
     "text": [
      "olleh\n"
     ]
    }
   ],
   "source": [
    "def reverse(s):\n",
    "    # define the base-case and the recursive algorithm\n",
    "    if (len(s) == 0): return s \n",
    "    return reverse(s[1:]) + s[0] \n",
    "\n",
    "print(reverse('hello'))"
   ]
  },
  {
   "cell_type": "markdown",
   "metadata": {},
   "source": []
  }
 ],
 "metadata": {
  "kernelspec": {
   "display_name": "Python 3",
   "language": "python",
   "name": "python3"
  },
  "language_info": {
   "codemirror_mode": {
    "name": "ipython",
    "version": 3
   },
   "file_extension": ".py",
   "mimetype": "text/x-python",
   "name": "python",
   "nbconvert_exporter": "python",
   "pygments_lexer": "ipython3",
   "version": "3.12.2"
  }
 },
 "nbformat": 4,
 "nbformat_minor": 2
}
