{
 "cells": [
  {
   "cell_type": "markdown",
   "metadata": {},
   "source": [
    "# Search Algorithms \n",
    "\n",
    "- linear search (sequential search) is a method for finding an item in an unsorted list. \n",
    "\n",
    "- the algorithm makes N comparisons in worst-case\n",
    "- hence the running time complexity is O(N)\n",
    "- not that practical as we can achieve O(log*N) running time with binary search or O(1) with hash-functions. \n",
    "\n",
    "#### REMEMBER: ALL TAIL RECURSIVE FUNCTIONS ARE ITERATIVE WHILE LOOP FUNCTIONS. "
   ]
  },
  {
   "cell_type": "code",
   "execution_count": 6,
   "metadata": {},
   "outputs": [
    {
     "name": "stdout",
     "output_type": "stream",
     "text": [
      "3\n",
      "5\n"
     ]
    }
   ],
   "source": [
    "from typing import List\n",
    "\n",
    "# Iteratively Linear Search \n",
    "def linear_search(container: List[int], item: int) -> int: \n",
    "    index = 0 \n",
    "    while (index < len(container)): \n",
    "        if (container[index] == item):\n",
    "            return index \n",
    "        index = index + 1 \n",
    "    return -1 \n",
    "\n",
    "# Recursively Linear Search \n",
    "def linear_search_recursively(container: List[int], item: int, index=0) -> int: \n",
    "    if (index >= len(container)):\n",
    "        return -1\n",
    "    if (container[index] == item):\n",
    "        return index \n",
    "    return linear_search_recursively(container, item, index + 1) \n",
    "\n",
    "container1 = [1, 5, -3, 10, 55, 100]\n",
    "test_value = 10 \n",
    "res = linear_search(container1, test_value) \n",
    "print(res)\n",
    "\n",
    "container2 = [1, 5, -3, 10, 55, 100]\n",
    "test_value = 100\n",
    "res = linear_search_recursively(container2, test_value) \n",
    "print(res)"
   ]
  },
  {
   "cell_type": "markdown",
   "metadata": {},
   "source": [
    "### Binary Search Algorithm \n",
    "\n",
    "- binary search (logarithmic search) is a method for finding an item in an sorted list. \n",
    "- the algorithm makes **log(N)** comparisons in worst-case.\n",
    "- hence the running time complexity is **O(log*N)**\n",
    "- it has practical applications as **O(log*N)** is close **O(1)** constant running time. "
   ]
  },
  {
   "cell_type": "code",
   "execution_count": 3,
   "metadata": {},
   "outputs": [
    {
     "name": "stdout",
     "output_type": "stream",
     "text": [
      "2\n",
      "0\n",
      "3\n"
     ]
    }
   ],
   "source": [
    "from typing import List \n",
    "\n",
    "# Iteratively \n",
    "def binary_search(container: List[int], item: int, left: int, right: int): \n",
    "\n",
    "    while (left != right): \n",
    "        pivot = (right + left) // 2\n",
    "\n",
    "        if (item == container[pivot]):\n",
    "            return pivot \n",
    "        \n",
    "        if (item < container[pivot]): \n",
    "            right = pivot\n",
    "\n",
    "        if (item > container[pivot]):\n",
    "            left = pivot \n",
    "\n",
    "    return -1 \n",
    "\n",
    "\n",
    "# Recursively \n",
    "def binary_search_recursive(container: List[int], item: int, left: int, right: int):\n",
    "    if (left == right): \n",
    "        return -1 \n",
    "    \n",
    "    pivot = (right + left) // 2 \n",
    "\n",
    "    if (item == container[pivot]):\n",
    "        return pivot \n",
    "    \n",
    "    if (item < container[pivot]):\n",
    "        right = pivot \n",
    "\n",
    "    if (item > container[pivot]): \n",
    "        left = pivot \n",
    "\n",
    "    return binary_search_recursive(container, item, left, right) \n",
    "        \n",
    "\n",
    "# O(1) - the pivot happens to be the target number index we were looking for. \n",
    "container = [1,2,3,4,5]\n",
    "target = 3 \n",
    "res = binary_search_recursive(container, target, 0, len(container))\n",
    "print(res) \n",
    "\n",
    "# Left Side O(log*N) \n",
    "container = [1,2,3,4,5]\n",
    "target = 1\n",
    "res = binary_search(container, target, 0, len(container))\n",
    "print(res) \n",
    "\n",
    "# Right Side O(log*N) \n",
    "container = [1,2,3,4,5]\n",
    "target = 4\n",
    "res = binary_search_recursive(container, target, 0, len(container))\n",
    "print(res) \n",
    "\n"
   ]
  },
  {
   "cell_type": "code",
   "execution_count": null,
   "metadata": {},
   "outputs": [],
   "source": []
  }
 ],
 "metadata": {
  "kernelspec": {
   "display_name": "Python 3",
   "language": "python",
   "name": "python3"
  },
  "language_info": {
   "codemirror_mode": {
    "name": "ipython",
    "version": 3
   },
   "file_extension": ".py",
   "mimetype": "text/x-python",
   "name": "python",
   "nbconvert_exporter": "python",
   "pygments_lexer": "ipython3",
   "version": "3.12.2"
  }
 },
 "nbformat": 4,
 "nbformat_minor": 2
}
