{
 "cells": [
  {
   "cell_type": "markdown",
   "metadata": {},
   "source": [
    "## Dynamic Programming\n",
    "\n",
    "- **dynamic programming** is both an optimization technique and a computer programming method.\n",
    "- it was introduced by **Richard Bellman** in **1953**.\n",
    "- the main idea is that **we can break down complicated problems into smaller subproblems** in a recursive manner. \n",
    "- then we find the solutions for these subproblem and finally we combine the sub results to find the final solution. "
   ]
  },
  {
   "cell_type": "markdown",
   "metadata": {},
   "source": [
    "- **dynamic programming** is a method for solving complex problem by breaking it down into a collection of simpler sub problems.\n",
    "- it is applicable to problems exhibiting the properties of overlapping sub problems. \n",
    "- dynamic programming takes far less time than other methods that don't take advantage of a subproblem overlap. \n",
    "- we need to solve different parts of the problem (sub problems) + combine the solutions of the sub problems to reach an overall solution. \n",
    "- we solve each sub problem only once - we reduce the number of computations. \n",
    "- sub problems can be stored in memory - **memoization** and **tabulation**\n",
    "\n",
    "#### Optimal Substructure \n",
    "- In computer science, a problem is said to have optimal substructure if an optimal solution can be constructed from optimal solutions of it's sub problems. \n",
    "\n",
    "#### Bellman-Equation \n",
    "- Of course there is a relationship between the sub results and the final result - this is what the **Bellman-equation** defines. \n",
    "\n",
    "NOTE: ,,If a given problem has optimal substructure and overlapping sub problems then we can use dynamic programming approach''\n",
    "\n",
    "<img src='./imgs/dynamic1.jpg' style='width:500px; height:300px;'>"
   ]
  },
  {
   "cell_type": "markdown",
   "metadata": {},
   "source": [
    "#### Memoization and Tabulation \n",
    "- the problem of recursion is that we may solve the same problems multiple times. This can be eliminated by:\n",
    "\n",
    "- 1. Top-Down Approach ,,Memoization''\n",
    "    - We can store the solutions of the sub problems in a table (priority queue for example) \n",
    "\n",
    "    Whenever we try to solve a new sub problem we first check whether it is present in the table (so we have already solved that problem.)\n",
    "\n",
    "- 2. Bottom-Up Approach ,,Tabulation''\n",
    "    - We reformulate the original problem in a bottom-up fashion. We iteratively generate the sub results for larger and larger sub problems. \n",
    "\n",
    "#### Dynamic Programming and Divide and Conquer Approaches. \n",
    "- several problems can be solved by combining optimal solutions to non-overlapping sub problems. \n",
    "- this strategy is called divide and conquer method.\n",
    "- this is why merge sort (or quicksort) are not classified as dynamic programming problems. \n",
    "- overlapping sub problems - dynamic programming. \n",
    "- non-overlapping sub problems - divide and conquer method. \n",
    "\n"
   ]
  },
  {
   "cell_type": "markdown",
   "metadata": {},
   "source": [
    "#### Fibonacci Sequence using Dynamic Programming Approach\n",
    "\n",
    "<img src='./imgs/dynamic2.webp' style='width:500px; height:300px;'>\n",
    "\n",
    "\n",
    "#### Fibonacci Equation\n",
    "- F(N) = F(N-1) + F(N-2) \n",
    "\n",
    "#### Base Cases \n",
    "- F(0) = 0\n",
    "- F(1) = 1\n",
    "\n",
    "\n",
    "What is the problem with the recursive formula? We keep calculating same sub problems (Fibonacci numbers) over and over again?\n",
    "\n",
    "- let's use dynamic programming and memoization in order to avoid recalculating a subproblem over and over again.\n",
    "- we should use an associative array abstract data type to store the solution for the sub problems - **O(1)** time complexity. \n",
    "- on every **F()** method call - we insert the calculated value if necessary. \n",
    "- instead of the **O(2^N)** exponential time complexity we will have **O(N)** time complexity + requires **O(N)** space. "
   ]
  },
  {
   "cell_type": "code",
   "execution_count": 20,
   "metadata": {},
   "outputs": [
    {
     "name": "stdout",
     "output_type": "stream",
     "text": [
      "14930352\n",
      "14930352\n"
     ]
    }
   ],
   "source": [
    "from typing import Dict\n",
    "\n",
    "# Exponential running time. O(N^N)\n",
    "def fibonacci_recursion(n: int) -> int: \n",
    "    if (n == 0 or n == 1):\n",
    "        return 1\n",
    "    return fibonacci_recursion(n-1) + fibonacci_recursion(n-2) \n",
    "\n",
    "# Top-Down Approach \n",
    "def fibonacci_memoization(n: int, table: Dict[int, int]) -> int: \n",
    "    if (n not in table):\n",
    "        table[n] = fibonacci_memoization(n - 1, table) + fibonacci_memoization(n - 2, table)\n",
    "    return table[n]\n",
    "\n",
    "# Bottom-up approach \n",
    "def fibonacci_tabulation(n: int, table: Dict[int, int]) -> int: \n",
    "    for i in range(2, n+1): \n",
    "        table[i] = table[i-1] + table[i-2]\n",
    "    return table[n]\n",
    "\n",
    "N = 35\n",
    "\n",
    "table = {0: 1, 1: 1}\n",
    "print(fibonacci_memoization(N, table))\n",
    "\n",
    "table = {0: 1, 1: 1}\n",
    "print(fibonacci_tabulation(N, table))\n",
    "\n",
    "# Very Slow past N = 30 fibonacci using recursive stack. \n",
    "# print(fibonacci_recursion(N))\n",
    "\n"
   ]
  },
  {
   "cell_type": "markdown",
   "metadata": {},
   "source": [
    "### Knapsack Problem\n",
    "- it is **combinatorial optimization** related problem.\n",
    "- given a set of **N** items - usually numbered from **1** to **N**.\n",
    "- each of these item has a mass **wi** and a value **vi**\n",
    "- determine the number of each item to include in a collection so that the total weight **M** is less than or equal to a given limit and the total value is as large as possible. \n",
    "- the problem often arises in resource allocation where there are financial constraints. "
   ]
  }
 ],
 "metadata": {
  "kernelspec": {
   "display_name": "Python 3",
   "language": "python",
   "name": "python3"
  },
  "language_info": {
   "codemirror_mode": {
    "name": "ipython",
    "version": 3
   },
   "file_extension": ".py",
   "mimetype": "text/x-python",
   "name": "python",
   "nbconvert_exporter": "python",
   "pygments_lexer": "ipython3",
   "version": "3.12.2"
  }
 },
 "nbformat": 4,
 "nbformat_minor": 2
}
